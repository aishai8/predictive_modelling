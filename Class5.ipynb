{
 "cells": [
  {
   "cell_type": "code",
   "execution_count": 9,
   "id": "64123052",
   "metadata": {},
   "outputs": [],
   "source": [
    "import numpy as np\n",
    "import pandas as pd\n",
    "import matplotlib.pyplot as plt\n",
    "import statsmodels.api as sm\n",
    "\n",
    "from statsmodels.sandbox.regression.gmm import IV2SLS\n",
    "from statsmodels.sandbox.regression.gmm import GMM"
   ]
  },
  {
   "cell_type": "code",
   "execution_count": 6,
   "id": "fe0eb360",
   "metadata": {},
   "outputs": [],
   "source": [
    "input_table = pd.read_csv('/Users/aishafathi/Downloads/small_retailers_stock_performance.csv')"
   ]
  },
  {
   "cell_type": "code",
   "execution_count": 7,
   "id": "ddedb861",
   "metadata": {},
   "outputs": [
    {
     "data": {
      "text/html": [
       "<div>\n",
       "<style scoped>\n",
       "    .dataframe tbody tr th:only-of-type {\n",
       "        vertical-align: middle;\n",
       "    }\n",
       "\n",
       "    .dataframe tbody tr th {\n",
       "        vertical-align: top;\n",
       "    }\n",
       "\n",
       "    .dataframe thead th {\n",
       "        text-align: right;\n",
       "    }\n",
       "</style>\n",
       "<table border=\"1\" class=\"dataframe\">\n",
       "  <thead>\n",
       "    <tr style=\"text-align: right;\">\n",
       "      <th></th>\n",
       "      <th>Constant</th>\n",
       "      <th>Stock Change</th>\n",
       "      <th>Inventory Turnover</th>\n",
       "      <th>Operating Profit</th>\n",
       "      <th>Interaction Effect</th>\n",
       "      <th>Current Ratio</th>\n",
       "      <th>Quick Ratio</th>\n",
       "      <th>Debt Asset Ratio</th>\n",
       "    </tr>\n",
       "  </thead>\n",
       "  <tbody>\n",
       "    <tr>\n",
       "      <th>0</th>\n",
       "      <td>1</td>\n",
       "      <td>0.870332</td>\n",
       "      <td>1.795946</td>\n",
       "      <td>0.115846</td>\n",
       "      <td>0.208053</td>\n",
       "      <td>1.672527</td>\n",
       "      <td>0.255171</td>\n",
       "      <td>0.473317</td>\n",
       "    </tr>\n",
       "    <tr>\n",
       "      <th>1</th>\n",
       "      <td>1</td>\n",
       "      <td>-0.047347</td>\n",
       "      <td>1.395501</td>\n",
       "      <td>0.436967</td>\n",
       "      <td>0.609788</td>\n",
       "      <td>1.637261</td>\n",
       "      <td>0.221763</td>\n",
       "      <td>0.489967</td>\n",
       "    </tr>\n",
       "    <tr>\n",
       "      <th>2</th>\n",
       "      <td>1</td>\n",
       "      <td>0.001176</td>\n",
       "      <td>1.664563</td>\n",
       "      <td>0.541016</td>\n",
       "      <td>0.900555</td>\n",
       "      <td>1.640619</td>\n",
       "      <td>0.189141</td>\n",
       "      <td>0.374269</td>\n",
       "    </tr>\n",
       "    <tr>\n",
       "      <th>3</th>\n",
       "      <td>1</td>\n",
       "      <td>-0.901200</td>\n",
       "      <td>1.605738</td>\n",
       "      <td>0.539399</td>\n",
       "      <td>0.866133</td>\n",
       "      <td>1.436221</td>\n",
       "      <td>0.131944</td>\n",
       "      <td>0.224399</td>\n",
       "    </tr>\n",
       "    <tr>\n",
       "      <th>4</th>\n",
       "      <td>1</td>\n",
       "      <td>-0.176353</td>\n",
       "      <td>1.591451</td>\n",
       "      <td>0.539938</td>\n",
       "      <td>0.859285</td>\n",
       "      <td>1.433140</td>\n",
       "      <td>0.183095</td>\n",
       "      <td>0.213446</td>\n",
       "    </tr>\n",
       "  </tbody>\n",
       "</table>\n",
       "</div>"
      ],
      "text/plain": [
       "   Constant  Stock Change  Inventory Turnover  Operating Profit  \\\n",
       "0         1      0.870332            1.795946          0.115846   \n",
       "1         1     -0.047347            1.395501          0.436967   \n",
       "2         1      0.001176            1.664563          0.541016   \n",
       "3         1     -0.901200            1.605738          0.539399   \n",
       "4         1     -0.176353            1.591451          0.539938   \n",
       "\n",
       "   Interaction Effect  Current Ratio  Quick Ratio  Debt Asset Ratio  \n",
       "0            0.208053       1.672527     0.255171          0.473317  \n",
       "1            0.609788       1.637261     0.221763          0.489967  \n",
       "2            0.900555       1.640619     0.189141          0.374269  \n",
       "3            0.866133       1.436221     0.131944          0.224399  \n",
       "4            0.859285       1.433140     0.183095          0.213446  "
      ]
     },
     "execution_count": 7,
     "metadata": {},
     "output_type": "execute_result"
    }
   ],
   "source": [
    "input_table.head()"
   ]
  },
  {
   "cell_type": "code",
   "execution_count": 8,
   "id": "3ceed0f2",
   "metadata": {},
   "outputs": [
    {
     "data": {
      "text/html": [
       "<div>\n",
       "<style scoped>\n",
       "    .dataframe tbody tr th:only-of-type {\n",
       "        vertical-align: middle;\n",
       "    }\n",
       "\n",
       "    .dataframe tbody tr th {\n",
       "        vertical-align: top;\n",
       "    }\n",
       "\n",
       "    .dataframe thead th {\n",
       "        text-align: right;\n",
       "    }\n",
       "</style>\n",
       "<table border=\"1\" class=\"dataframe\">\n",
       "  <thead>\n",
       "    <tr style=\"text-align: right;\">\n",
       "      <th></th>\n",
       "      <th>Constant</th>\n",
       "      <th>Stock Change</th>\n",
       "      <th>Inventory Turnover</th>\n",
       "      <th>Operating Profit</th>\n",
       "      <th>Interaction Effect</th>\n",
       "      <th>Current Ratio</th>\n",
       "      <th>Quick Ratio</th>\n",
       "      <th>Debt Asset Ratio</th>\n",
       "    </tr>\n",
       "  </thead>\n",
       "  <tbody>\n",
       "    <tr>\n",
       "      <th>0</th>\n",
       "      <td>1</td>\n",
       "      <td>0.870332</td>\n",
       "      <td>1.795946</td>\n",
       "      <td>0.115846</td>\n",
       "      <td>0.208053</td>\n",
       "      <td>1.672527</td>\n",
       "      <td>0.255171</td>\n",
       "      <td>0.473317</td>\n",
       "    </tr>\n",
       "    <tr>\n",
       "      <th>1</th>\n",
       "      <td>1</td>\n",
       "      <td>-0.047347</td>\n",
       "      <td>1.395501</td>\n",
       "      <td>0.436967</td>\n",
       "      <td>0.609788</td>\n",
       "      <td>1.637261</td>\n",
       "      <td>0.221763</td>\n",
       "      <td>0.489967</td>\n",
       "    </tr>\n",
       "    <tr>\n",
       "      <th>2</th>\n",
       "      <td>1</td>\n",
       "      <td>0.001176</td>\n",
       "      <td>1.664563</td>\n",
       "      <td>0.541016</td>\n",
       "      <td>0.900555</td>\n",
       "      <td>1.640619</td>\n",
       "      <td>0.189141</td>\n",
       "      <td>0.374269</td>\n",
       "    </tr>\n",
       "    <tr>\n",
       "      <th>3</th>\n",
       "      <td>1</td>\n",
       "      <td>-0.901200</td>\n",
       "      <td>1.605738</td>\n",
       "      <td>0.539399</td>\n",
       "      <td>0.866133</td>\n",
       "      <td>1.436221</td>\n",
       "      <td>0.131944</td>\n",
       "      <td>0.224399</td>\n",
       "    </tr>\n",
       "    <tr>\n",
       "      <th>4</th>\n",
       "      <td>1</td>\n",
       "      <td>-0.176353</td>\n",
       "      <td>1.591451</td>\n",
       "      <td>0.539938</td>\n",
       "      <td>0.859285</td>\n",
       "      <td>1.433140</td>\n",
       "      <td>0.183095</td>\n",
       "      <td>0.213446</td>\n",
       "    </tr>\n",
       "    <tr>\n",
       "      <th>...</th>\n",
       "      <td>...</td>\n",
       "      <td>...</td>\n",
       "      <td>...</td>\n",
       "      <td>...</td>\n",
       "      <td>...</td>\n",
       "      <td>...</td>\n",
       "      <td>...</td>\n",
       "      <td>...</td>\n",
       "    </tr>\n",
       "    <tr>\n",
       "      <th>1691</th>\n",
       "      <td>1</td>\n",
       "      <td>-0.015543</td>\n",
       "      <td>5.225766</td>\n",
       "      <td>0.309119</td>\n",
       "      <td>1.615384</td>\n",
       "      <td>3.554503</td>\n",
       "      <td>2.197871</td>\n",
       "      <td>0.005549</td>\n",
       "    </tr>\n",
       "    <tr>\n",
       "      <th>1692</th>\n",
       "      <td>1</td>\n",
       "      <td>0.399089</td>\n",
       "      <td>5.324390</td>\n",
       "      <td>0.274782</td>\n",
       "      <td>1.463044</td>\n",
       "      <td>3.745006</td>\n",
       "      <td>2.324502</td>\n",
       "      <td>0.004359</td>\n",
       "    </tr>\n",
       "    <tr>\n",
       "      <th>1693</th>\n",
       "      <td>1</td>\n",
       "      <td>-0.702200</td>\n",
       "      <td>5.575258</td>\n",
       "      <td>0.287503</td>\n",
       "      <td>1.602905</td>\n",
       "      <td>3.434909</td>\n",
       "      <td>2.282626</td>\n",
       "      <td>0.000000</td>\n",
       "    </tr>\n",
       "    <tr>\n",
       "      <th>1694</th>\n",
       "      <td>1</td>\n",
       "      <td>0.283926</td>\n",
       "      <td>5.423463</td>\n",
       "      <td>0.256657</td>\n",
       "      <td>1.391968</td>\n",
       "      <td>2.876645</td>\n",
       "      <td>1.454948</td>\n",
       "      <td>0.000000</td>\n",
       "    </tr>\n",
       "    <tr>\n",
       "      <th>1695</th>\n",
       "      <td>1</td>\n",
       "      <td>-0.008141</td>\n",
       "      <td>5.239394</td>\n",
       "      <td>0.217016</td>\n",
       "      <td>1.137033</td>\n",
       "      <td>2.871897</td>\n",
       "      <td>1.419066</td>\n",
       "      <td>0.000000</td>\n",
       "    </tr>\n",
       "  </tbody>\n",
       "</table>\n",
       "<p>1696 rows × 8 columns</p>\n",
       "</div>"
      ],
      "text/plain": [
       "      Constant  Stock Change  Inventory Turnover  Operating Profit  \\\n",
       "0            1      0.870332            1.795946          0.115846   \n",
       "1            1     -0.047347            1.395501          0.436967   \n",
       "2            1      0.001176            1.664563          0.541016   \n",
       "3            1     -0.901200            1.605738          0.539399   \n",
       "4            1     -0.176353            1.591451          0.539938   \n",
       "...        ...           ...                 ...               ...   \n",
       "1691         1     -0.015543            5.225766          0.309119   \n",
       "1692         1      0.399089            5.324390          0.274782   \n",
       "1693         1     -0.702200            5.575258          0.287503   \n",
       "1694         1      0.283926            5.423463          0.256657   \n",
       "1695         1     -0.008141            5.239394          0.217016   \n",
       "\n",
       "      Interaction Effect  Current Ratio  Quick Ratio  Debt Asset Ratio  \n",
       "0               0.208053       1.672527     0.255171          0.473317  \n",
       "1               0.609788       1.637261     0.221763          0.489967  \n",
       "2               0.900555       1.640619     0.189141          0.374269  \n",
       "3               0.866133       1.436221     0.131944          0.224399  \n",
       "4               0.859285       1.433140     0.183095          0.213446  \n",
       "...                  ...            ...          ...               ...  \n",
       "1691            1.615384       3.554503     2.197871          0.005549  \n",
       "1692            1.463044       3.745006     2.324502          0.004359  \n",
       "1693            1.602905       3.434909     2.282626          0.000000  \n",
       "1694            1.391968       2.876645     1.454948          0.000000  \n",
       "1695            1.137033       2.871897     1.419066          0.000000  \n",
       "\n",
       "[1696 rows x 8 columns]"
      ]
     },
     "execution_count": 8,
     "metadata": {},
     "output_type": "execute_result"
    }
   ],
   "source": [
    "input_table"
   ]
  },
  {
   "cell_type": "markdown",
   "id": "f8258221",
   "metadata": {},
   "source": [
    "we have 1696 data points for 1696 companies from their statements"
   ]
  },
  {
   "cell_type": "code",
   "execution_count": 10,
   "id": "34ede243",
   "metadata": {},
   "outputs": [
    {
     "name": "stdout",
     "output_type": "stream",
     "text": [
      "                            OLS Regression Results                            \n",
      "==============================================================================\n",
      "Dep. Variable:           Stock Change   R-squared:                       0.014\n",
      "Model:                            OLS   Adj. R-squared:                  0.012\n",
      "Method:                 Least Squares   F-statistic:                     7.757\n",
      "Date:                Tue, 07 Oct 2025   Prob (F-statistic):           3.82e-05\n",
      "Time:                        20:03:14   Log-Likelihood:                -1187.7\n",
      "No. Observations:                1696   AIC:                             2383.\n",
      "Df Residuals:                    1692   BIC:                             2405.\n",
      "Df Model:                           3                                         \n",
      "Covariance Type:            nonrobust                                         \n",
      "======================================================================================\n",
      "                         coef    std err          t      P>|t|      [0.025      0.975]\n",
      "--------------------------------------------------------------------------------------\n",
      "Constant           -1.242e-11      0.016  -7.82e-10      1.000      -0.031       0.031\n",
      "Inventory Turnover     0.0003      0.000      1.024      0.306      -0.000       0.001\n",
      "Operating Profit      -0.1201      0.028     -4.255      0.000      -0.175      -0.065\n",
      "Interaction Effect     0.0014      0.000      3.495      0.000       0.001       0.002\n",
      "==============================================================================\n",
      "Omnibus:                      369.174   Durbin-Watson:                   2.242\n",
      "Prob(Omnibus):                  0.000   Jarque-Bera (JB):             3439.323\n",
      "Skew:                           0.743   Prob(JB):                         0.00\n",
      "Kurtosis:                       9.816   Cond. No.                         122.\n",
      "==============================================================================\n",
      "\n",
      "Notes:\n",
      "[1] Standard Errors assume that the covariance matrix of the errors is correctly specified.\n"
     ]
    }
   ],
   "source": [
    "# build a stock change model \n",
    "Y = input_table['Stock Change']\n",
    "X = input_table[['Constant','Inventory Turnover', 'Operating Profit','Interaction Effect']]\n",
    "baseline_model = sm.OLS(Y,X).fit()\n",
    "print(baseline_model.summary())"
   ]
  },
  {
   "cell_type": "code",
   "execution_count": 16,
   "id": "32acc06c",
   "metadata": {},
   "outputs": [],
   "source": [
    "# generate predictions\n",
    "Predictions = baseline_model.predict(X)"
   ]
  },
  {
   "cell_type": "code",
   "execution_count": 18,
   "id": "894ec449",
   "metadata": {},
   "outputs": [
    {
     "data": {
      "text/html": [
       "<div>\n",
       "<style scoped>\n",
       "    .dataframe tbody tr th:only-of-type {\n",
       "        vertical-align: middle;\n",
       "    }\n",
       "\n",
       "    .dataframe tbody tr th {\n",
       "        vertical-align: top;\n",
       "    }\n",
       "\n",
       "    .dataframe thead th {\n",
       "        text-align: right;\n",
       "    }\n",
       "</style>\n",
       "<table border=\"1\" class=\"dataframe\">\n",
       "  <thead>\n",
       "    <tr style=\"text-align: right;\">\n",
       "      <th></th>\n",
       "      <th>Y</th>\n",
       "      <th>Predictions</th>\n",
       "      <th>Residuals</th>\n",
       "    </tr>\n",
       "  </thead>\n",
       "  <tbody>\n",
       "    <tr>\n",
       "      <th>0</th>\n",
       "      <td>0.870332</td>\n",
       "      <td>-0.013003</td>\n",
       "      <td>0.883335</td>\n",
       "    </tr>\n",
       "    <tr>\n",
       "      <th>1</th>\n",
       "      <td>-0.047347</td>\n",
       "      <td>-0.051144</td>\n",
       "      <td>0.003797</td>\n",
       "    </tr>\n",
       "    <tr>\n",
       "      <th>2</th>\n",
       "      <td>0.001176</td>\n",
       "      <td>-0.063139</td>\n",
       "      <td>0.064315</td>\n",
       "    </tr>\n",
       "    <tr>\n",
       "      <th>3</th>\n",
       "      <td>-0.901200</td>\n",
       "      <td>-0.063014</td>\n",
       "      <td>-0.838187</td>\n",
       "    </tr>\n",
       "    <tr>\n",
       "      <th>4</th>\n",
       "      <td>-0.176353</td>\n",
       "      <td>-0.063093</td>\n",
       "      <td>-0.113260</td>\n",
       "    </tr>\n",
       "  </tbody>\n",
       "</table>\n",
       "</div>"
      ],
      "text/plain": [
       "          Y  Predictions  Residuals\n",
       "0  0.870332    -0.013003   0.883335\n",
       "1 -0.047347    -0.051144   0.003797\n",
       "2  0.001176    -0.063139   0.064315\n",
       "3 -0.901200    -0.063014  -0.838187\n",
       "4 -0.176353    -0.063093  -0.113260"
      ]
     },
     "execution_count": 18,
     "metadata": {},
     "output_type": "execute_result"
    }
   ],
   "source": [
    "# residual analysis to show the problem we have \n",
    "residuals = pd.DataFrame([Y, Predictions,(Y - Predictions)]).T \n",
    "residuals.columns = ['Y','Predictions','Residuals']\n",
    "residuals.head()"
   ]
  },
  {
   "cell_type": "code",
   "execution_count": null,
   "id": "b45aae2f",
   "metadata": {},
   "outputs": [
    {
     "data": {
      "image/png": "[encoded data removed]",
      "text/plain": [
       "<Figure size 640x480 with 1 Axes>"
      ]
     },
     "metadata": {},
     "output_type": "display_data"
    }
   ],
   "source": [
    "plt.scatter(residuals['Predictions'], residuals['Residuals'])\n",
    "plt.xlabel('Predictions')\n",
    "plt.ylabel('Residuals')\n",
    "plt.show()"
   ]
  },
  {
   "cell_type": "markdown",
   "id": "24400276",
   "metadata": {},
   "source": [
    "this is our baseline model"
   ]
  },
  {
   "cell_type": "code",
   "execution_count": 20,
   "id": "eff854c3",
   "metadata": {},
   "outputs": [
    {
     "name": "stdout",
     "output_type": "stream",
     "text": [
      "                            OLS Regression Results                            \n",
      "==============================================================================\n",
      "Dep. Variable:     Inventory Turnover   R-squared:                       0.314\n",
      "Model:                            OLS   Adj. R-squared:                  0.313\n",
      "Method:                 Least Squares   F-statistic:                     258.4\n",
      "Date:                Tue, 07 Oct 2025   Prob (F-statistic):          5.04e-138\n",
      "Time:                        20:07:05   Log-Likelihood:                -8212.4\n",
      "No. Observations:                1696   AIC:                         1.643e+04\n",
      "Df Residuals:                    1692   BIC:                         1.645e+04\n",
      "Df Model:                           3                                         \n",
      "Covariance Type:            nonrobust                                         \n",
      "====================================================================================\n",
      "                       coef    std err          t      P>|t|      [0.025      0.975]\n",
      "------------------------------------------------------------------------------------\n",
      "Constant            46.4258      1.434     32.370      0.000      43.613      49.239\n",
      "Current Ratio      -27.7196      1.053    -26.335      0.000     -29.784     -25.655\n",
      "Quick Ratio         29.8348      1.350     22.098      0.000      27.187      32.483\n",
      "Debt Asset Ratio     6.4389      2.788      2.309      0.021       0.970      11.907\n",
      "==============================================================================\n",
      "Omnibus:                      876.296   Durbin-Watson:                   0.347\n",
      "Prob(Omnibus):                  0.000   Jarque-Bera (JB):             5880.787\n",
      "Skew:                           2.374   Prob(JB):                         0.00\n",
      "Kurtosis:                      10.790   Cond. No.                         11.8\n",
      "==============================================================================\n",
      "\n",
      "Notes:\n",
      "[1] Standard Errors assume that the covariance matrix of the errors is correctly specified.\n"
     ]
    }
   ],
   "source": [
    "# for the IV model the first step is to predict the inventory turnover\n",
    "iv_Y = input_table['Inventory Turnover']\n",
    "iv_X = input_table[['Constant','Current Ratio','Quick Ratio', 'Debt Asset Ratio']]\n",
    "model_iv = sm.OLS(iv_Y,iv_X).fit()\n",
    "print(model_iv.summary())"
   ]
  },
  {
   "cell_type": "code",
   "execution_count": 21,
   "id": "aed5e46c",
   "metadata": {},
   "outputs": [],
   "source": [
    "# current ratio means can we pay our debt with our current assets \n",
    "# the current ratio and quick ratio are related to each other and will details about what ... check the recording\n"
   ]
  },
  {
   "cell_type": "code",
   "execution_count": 22,
   "id": "54d86476",
   "metadata": {},
   "outputs": [],
   "source": [
    "# use model iv to make predictions\n",
    "endog_pred = model_iv.predict(iv_X)"
   ]
  },
  {
   "cell_type": "code",
   "execution_count": 23,
   "id": "386cad5b",
   "metadata": {},
   "outputs": [],
   "source": [
    "input_table['Endogenous Param'] = endog_pred"
   ]
  },
  {
   "cell_type": "code",
   "execution_count": 24,
   "id": "5f822f22",
   "metadata": {},
   "outputs": [
    {
     "data": {
      "text/html": [
       "<div>\n",
       "<style scoped>\n",
       "    .dataframe tbody tr th:only-of-type {\n",
       "        vertical-align: middle;\n",
       "    }\n",
       "\n",
       "    .dataframe tbody tr th {\n",
       "        vertical-align: top;\n",
       "    }\n",
       "\n",
       "    .dataframe thead th {\n",
       "        text-align: right;\n",
       "    }\n",
       "</style>\n",
       "<table border=\"1\" class=\"dataframe\">\n",
       "  <thead>\n",
       "    <tr style=\"text-align: right;\">\n",
       "      <th></th>\n",
       "      <th>Constant</th>\n",
       "      <th>Stock Change</th>\n",
       "      <th>Inventory Turnover</th>\n",
       "      <th>Operating Profit</th>\n",
       "      <th>Interaction Effect</th>\n",
       "      <th>Current Ratio</th>\n",
       "      <th>Quick Ratio</th>\n",
       "      <th>Debt Asset Ratio</th>\n",
       "      <th>Endogenous Param</th>\n",
       "    </tr>\n",
       "  </thead>\n",
       "  <tbody>\n",
       "    <tr>\n",
       "      <th>0</th>\n",
       "      <td>1</td>\n",
       "      <td>0.870332</td>\n",
       "      <td>1.795946</td>\n",
       "      <td>0.115846</td>\n",
       "      <td>0.208053</td>\n",
       "      <td>1.672527</td>\n",
       "      <td>0.255171</td>\n",
       "      <td>0.473317</td>\n",
       "      <td>10.724599</td>\n",
       "    </tr>\n",
       "    <tr>\n",
       "      <th>1</th>\n",
       "      <td>1</td>\n",
       "      <td>-0.047347</td>\n",
       "      <td>1.395501</td>\n",
       "      <td>0.436967</td>\n",
       "      <td>0.609788</td>\n",
       "      <td>1.637261</td>\n",
       "      <td>0.221763</td>\n",
       "      <td>0.489967</td>\n",
       "      <td>10.812673</td>\n",
       "    </tr>\n",
       "    <tr>\n",
       "      <th>2</th>\n",
       "      <td>1</td>\n",
       "      <td>0.001176</td>\n",
       "      <td>1.664563</td>\n",
       "      <td>0.541016</td>\n",
       "      <td>0.900555</td>\n",
       "      <td>1.640619</td>\n",
       "      <td>0.189141</td>\n",
       "      <td>0.374269</td>\n",
       "      <td>9.001338</td>\n",
       "    </tr>\n",
       "    <tr>\n",
       "      <th>3</th>\n",
       "      <td>1</td>\n",
       "      <td>-0.901200</td>\n",
       "      <td>1.605738</td>\n",
       "      <td>0.539399</td>\n",
       "      <td>0.866133</td>\n",
       "      <td>1.436221</td>\n",
       "      <td>0.131944</td>\n",
       "      <td>0.224399</td>\n",
       "      <td>11.995705</td>\n",
       "    </tr>\n",
       "    <tr>\n",
       "      <th>4</th>\n",
       "      <td>1</td>\n",
       "      <td>-0.176353</td>\n",
       "      <td>1.591451</td>\n",
       "      <td>0.539938</td>\n",
       "      <td>0.859285</td>\n",
       "      <td>1.433140</td>\n",
       "      <td>0.183095</td>\n",
       "      <td>0.213446</td>\n",
       "      <td>13.536649</td>\n",
       "    </tr>\n",
       "    <tr>\n",
       "      <th>...</th>\n",
       "      <td>...</td>\n",
       "      <td>...</td>\n",
       "      <td>...</td>\n",
       "      <td>...</td>\n",
       "      <td>...</td>\n",
       "      <td>...</td>\n",
       "      <td>...</td>\n",
       "      <td>...</td>\n",
       "      <td>...</td>\n",
       "    </tr>\n",
       "    <tr>\n",
       "      <th>1691</th>\n",
       "      <td>1</td>\n",
       "      <td>-0.015543</td>\n",
       "      <td>5.225766</td>\n",
       "      <td>0.309119</td>\n",
       "      <td>1.615384</td>\n",
       "      <td>3.554503</td>\n",
       "      <td>2.197871</td>\n",
       "      <td>0.005549</td>\n",
       "      <td>13.504958</td>\n",
       "    </tr>\n",
       "    <tr>\n",
       "      <th>1692</th>\n",
       "      <td>1</td>\n",
       "      <td>0.399089</td>\n",
       "      <td>5.324390</td>\n",
       "      <td>0.274782</td>\n",
       "      <td>1.463044</td>\n",
       "      <td>3.745006</td>\n",
       "      <td>2.324502</td>\n",
       "      <td>0.004359</td>\n",
       "      <td>11.994641</td>\n",
       "    </tr>\n",
       "    <tr>\n",
       "      <th>1693</th>\n",
       "      <td>1</td>\n",
       "      <td>-0.702200</td>\n",
       "      <td>5.575258</td>\n",
       "      <td>0.287503</td>\n",
       "      <td>1.602905</td>\n",
       "      <td>3.434909</td>\n",
       "      <td>2.282626</td>\n",
       "      <td>0.000000</td>\n",
       "      <td>19.312977</td>\n",
       "    </tr>\n",
       "    <tr>\n",
       "      <th>1694</th>\n",
       "      <td>1</td>\n",
       "      <td>0.283926</td>\n",
       "      <td>5.423463</td>\n",
       "      <td>0.256657</td>\n",
       "      <td>1.391968</td>\n",
       "      <td>2.876645</td>\n",
       "      <td>1.454948</td>\n",
       "      <td>0.000000</td>\n",
       "      <td>10.094274</td>\n",
       "    </tr>\n",
       "    <tr>\n",
       "      <th>1695</th>\n",
       "      <td>1</td>\n",
       "      <td>-0.008141</td>\n",
       "      <td>5.239394</td>\n",
       "      <td>0.217016</td>\n",
       "      <td>1.137033</td>\n",
       "      <td>2.871897</td>\n",
       "      <td>1.419066</td>\n",
       "      <td>0.000000</td>\n",
       "      <td>9.155368</td>\n",
       "    </tr>\n",
       "  </tbody>\n",
       "</table>\n",
       "<p>1696 rows × 9 columns</p>\n",
       "</div>"
      ],
      "text/plain": [
       "      Constant  Stock Change  Inventory Turnover  Operating Profit  \\\n",
       "0            1      0.870332            1.795946          0.115846   \n",
       "1            1     -0.047347            1.395501          0.436967   \n",
       "2            1      0.001176            1.664563          0.541016   \n",
       "3            1     -0.901200            1.605738          0.539399   \n",
       "4            1     -0.176353            1.591451          0.539938   \n",
       "...        ...           ...                 ...               ...   \n",
       "1691         1     -0.015543            5.225766          0.309119   \n",
       "1692         1      0.399089            5.324390          0.274782   \n",
       "1693         1     -0.702200            5.575258          0.287503   \n",
       "1694         1      0.283926            5.423463          0.256657   \n",
       "1695         1     -0.008141            5.239394          0.217016   \n",
       "\n",
       "      Interaction Effect  Current Ratio  Quick Ratio  Debt Asset Ratio  \\\n",
       "0               0.208053       1.672527     0.255171          0.473317   \n",
       "1               0.609788       1.637261     0.221763          0.489967   \n",
       "2               0.900555       1.640619     0.189141          0.374269   \n",
       "3               0.866133       1.436221     0.131944          0.224399   \n",
       "4               0.859285       1.433140     0.183095          0.213446   \n",
       "...                  ...            ...          ...               ...   \n",
       "1691            1.615384       3.554503     2.197871          0.005549   \n",
       "1692            1.463044       3.745006     2.324502          0.004359   \n",
       "1693            1.602905       3.434909     2.282626          0.000000   \n",
       "1694            1.391968       2.876645     1.454948          0.000000   \n",
       "1695            1.137033       2.871897     1.419066          0.000000   \n",
       "\n",
       "      Endogenous Param  \n",
       "0            10.724599  \n",
       "1            10.812673  \n",
       "2             9.001338  \n",
       "3            11.995705  \n",
       "4            13.536649  \n",
       "...                ...  \n",
       "1691         13.504958  \n",
       "1692         11.994641  \n",
       "1693         19.312977  \n",
       "1694         10.094274  \n",
       "1695          9.155368  \n",
       "\n",
       "[1696 rows x 9 columns]"
      ]
     },
     "execution_count": 24,
     "metadata": {},
     "output_type": "execute_result"
    }
   ],
   "source": [
    "input_table"
   ]
  },
  {
   "cell_type": "code",
   "execution_count": 25,
   "id": "6da46f1b",
   "metadata": {},
   "outputs": [
    {
     "name": "stdout",
     "output_type": "stream",
     "text": [
      "                            OLS Regression Results                            \n",
      "==============================================================================\n",
      "Dep. Variable:           Stock Change   R-squared:                       0.015\n",
      "Model:                            OLS   Adj. R-squared:                  0.013\n",
      "Method:                 Least Squares   F-statistic:                     8.530\n",
      "Date:                Tue, 07 Oct 2025   Prob (F-statistic):           1.27e-05\n",
      "Time:                        20:12:07   Log-Likelihood:                -1186.5\n",
      "No. Observations:                1696   AIC:                             2381.\n",
      "Df Residuals:                    1692   BIC:                             2403.\n",
      "Df Model:                           3                                         \n",
      "Covariance Type:            nonrobust                                         \n",
      "======================================================================================\n",
      "                         coef    std err          t      P>|t|      [0.025      0.975]\n",
      "--------------------------------------------------------------------------------------\n",
      "Constant              -0.0176      0.020     -0.896      0.370      -0.056       0.021\n",
      "Endogenous Param       0.0011      0.001      1.827      0.068   -7.76e-05       0.002\n",
      "Operating Profit      -0.1201      0.028     -4.319      0.000      -0.175      -0.066\n",
      "Interaction Effect     0.0014      0.000      3.621      0.000       0.001       0.002\n",
      "==============================================================================\n",
      "Omnibus:                      368.832   Durbin-Watson:                   2.243\n",
      "Prob(Omnibus):                  0.000   Jarque-Bera (JB):             3433.920\n",
      "Skew:                           0.742   Prob(JB):                         0.00\n",
      "Kurtosis:                       9.811   Cond. No.                         109.\n",
      "==============================================================================\n",
      "\n",
      "Notes:\n",
      "[1] Standard Errors assume that the covariance matrix of the errors is correctly specified.\n"
     ]
    }
   ],
   "source": [
    "# run the sls model with the endegenous parameters \n",
    "Y_sls = input_table['Stock Change']\n",
    "X_sls = input_table[['Constant','Endogenous Param', 'Operating Profit','Interaction Effect']]\n",
    "sls_model = sm.OLS(Y_sls,X_sls).fit()\n",
    "print(sls_model.summary())"
   ]
  },
  {
   "cell_type": "markdown",
   "id": "193828b8",
   "metadata": {},
   "source": [
    "it doesn't change a lot and the previous was better"
   ]
  },
  {
   "cell_type": "code",
   "execution_count": 26,
   "id": "15d07793",
   "metadata": {},
   "outputs": [
    {
     "data": {
      "image/png": "[encoded data removed]",
      "text/plain": [
       "<Figure size 640x480 with 1 Axes>"
      ]
     },
     "metadata": {},
     "output_type": "display_data"
    }
   ],
   "source": [
    "sls_pred = sls_model.predict(X_sls)\n",
    "residuals = pd.DataFrame([Y_sls, sls_pred,(Y_sls - sls_pred)]).T\n",
    "residuals.columns = ['Y','Predictions','Residuals']\n",
    "\n",
    "plt.scatter(residuals['Predictions'], residuals['Residuals'])\n",
    "plt.xlabel('Predictions')\n",
    "plt.ylabel('Residuals')\n",
    "plt.show()"
   ]
  },
  {
   "cell_type": "code",
   "execution_count": 27,
   "id": "4face402",
   "metadata": {},
   "outputs": [],
   "source": [
    "# defined the algorithm by hand \n",
    "y_vals = np.array(input_table['Stock Change'])\n",
    "x_vals = np.array(input_table[['Inventory Turnover','Operating Profit','Interaction Effect']])\n",
    "iv_vals = np.array(input_table[['Current Ratio','Quick Ratio','Debt Asset Ratio']])"
   ]
  },
  {
   "cell_type": "code",
   "execution_count": 28,
   "id": "b987d24f",
   "metadata": {},
   "outputs": [],
   "source": [
    "# for each observation we will look at the moments function and minimize the moments\n",
    "class gmm(GMM):\n",
    "  def momcond(self, params):\n",
    "    p0, p1, p2, p3 = params # coefficients Inventory Turnover, Op Profit, Interaction Effect\n",
    "    endog = self.endog\n",
    "    exog = self.exog\n",
    "    inst = self.instrument\n",
    "\n",
    "    error0 = endog - p0 - p1*exog[:,0] - p2*exog[:, 1] - p3 * exog[:,2]\n",
    "    error1 = (endog - p0 - p1 * exog[:,0] - p2 * exog[:,1] - p3 * exog[:,2]) * exog[:,1]\n",
    "    error2 = (endog - p0 - p1 * exog[:,0] - p2 * exog[:,1] - p3 * exog[:,2]) * exog[:,2]\n",
    "    error3 = (endog - p0 - p1 * exog[:,0] - p2 * exog[:,1] - p3 * exog[:,2]) * inst[:,0] \n",
    "    error4 = (endog - p0 - p1 * exog[:,0] - p2 * exog[:,1] - p3 * exog[:,2]) * inst[:,1] \n",
    "    error5 = (endog - p0 - p1 * exog[:,0] - p2 * exog[:,1] - p3 * exog[:,2]) * inst[:,2] \n",
    "\n",
    "    g = np.column_stack((error0, error1, error2, error3, error4, error5))\n",
    "    return g\n",
    "\n",
    "beta0 = np.array([0.1, 0.1, 0.1, 0.1])"
   ]
  },
  {
   "cell_type": "code",
   "execution_count": 29,
   "id": "eca14051",
   "metadata": {},
   "outputs": [
    {
     "name": "stdout",
     "output_type": "stream",
     "text": [
      "Optimization terminated successfully.\n",
      "         Current function value: 0.000046\n",
      "         Iterations: 8\n",
      "         Function evaluations: 12\n",
      "         Gradient evaluations: 12\n",
      "Optimization terminated successfully.\n",
      "         Current function value: 0.000373\n",
      "         Iterations: 7\n",
      "         Function evaluations: 13\n",
      "         Gradient evaluations: 13\n",
      "Optimization terminated successfully.\n",
      "         Current function value: 0.000372\n",
      "         Iterations: 5\n",
      "         Function evaluations: 9\n",
      "         Gradient evaluations: 9\n",
      "Optimization terminated successfully.\n",
      "         Current function value: 0.000372\n",
      "         Iterations: 5\n",
      "         Function evaluations: 11\n",
      "         Gradient evaluations: 11\n",
      "Optimization terminated successfully.\n",
      "         Current function value: 0.000372\n",
      "         Iterations: 0\n",
      "         Function evaluations: 1\n",
      "         Gradient evaluations: 1\n"
     ]
    }
   ],
   "source": [
    "res = gmm(endog=y_vals, exog=x_vals, instrument=iv_vals, k_moms=6, k_params=4).fit(beta0)"
   ]
  },
  {
   "cell_type": "code",
   "execution_count": 30,
   "id": "85122e2d",
   "metadata": {},
   "outputs": [
    {
     "data": {
      "text/html": [
       "<table class=\"simpletable\">\n",
       "<caption>gmm Results</caption>\n",
       "<tr>\n",
       "  <th>Dep. Variable:</th>            <td>y</td>        <th>  Hansen J:          </th> <td>  0.6317</td>\n",
       "</tr>\n",
       "<tr>\n",
       "  <th>Model:</th>                   <td>gmm</td>       <th>  Prob (Hansen J):   </th>  <td> 0.729</td> \n",
       "</tr>\n",
       "<tr>\n",
       "  <th>Method:</th>                  <td>GMM</td>       <th>                     </th>     <td> </td>   \n",
       "</tr>\n",
       "<tr>\n",
       "  <th>Date:</th>             <td>Tue, 07 Oct 2025</td> <th>                     </th>     <td> </td>   \n",
       "</tr>\n",
       "<tr>\n",
       "  <th>Time:</th>                 <td>20:23:10</td>     <th>                     </th>     <td> </td>   \n",
       "</tr>\n",
       "<tr>\n",
       "  <th>No. Observations:</th>      <td>  1696</td>      <th>                     </th>     <td> </td>   \n",
       "</tr>\n",
       "</table>\n",
       "<table class=\"simpletable\">\n",
       "<tr>\n",
       "   <td></td>      <th>coef</th>     <th>std err</th>      <th>z</th>      <th>P>|z|</th>  <th>[0.025</th>    <th>0.975]</th>  \n",
       "</tr>\n",
       "<tr>\n",
       "  <th>p 0</th> <td>   -0.0200</td> <td>    0.021</td> <td>   -0.964</td> <td> 0.335</td> <td>   -0.061</td> <td>    0.021</td>\n",
       "</tr>\n",
       "<tr>\n",
       "  <th>p 1</th> <td>    0.0011</td> <td>    0.001</td> <td>    1.843</td> <td> 0.065</td> <td>-6.89e-05</td> <td>    0.002</td>\n",
       "</tr>\n",
       "<tr>\n",
       "  <th>p 2</th> <td>   -0.1071</td> <td>    0.032</td> <td>   -3.370</td> <td> 0.001</td> <td>   -0.169</td> <td>   -0.045</td>\n",
       "</tr>\n",
       "<tr>\n",
       "  <th>p 3</th> <td>    0.0011</td> <td>    0.000</td> <td>    2.760</td> <td> 0.006</td> <td>    0.000</td> <td>    0.002</td>\n",
       "</tr>\n",
       "</table>"
      ],
      "text/latex": [
       "\\begin{center}\n",
       "\\begin{tabular}{lclc}\n",
       "\\toprule\n",
       "\\textbf{Dep. Variable:}    &        y         & \\textbf{  Hansen J:          } &    0.6317   \\\\\n",
       "\\textbf{Model:}            &       gmm        & \\textbf{  Prob (Hansen J):   } &    0.729    \\\\\n",
       "\\textbf{Method:}           &       GMM        & \\textbf{                     } &             \\\\\n",
       "\\textbf{Date:}             & Tue, 07 Oct 2025 & \\textbf{                     } &             \\\\\n",
       "\\textbf{Time:}             &     20:23:10     & \\textbf{                     } &             \\\\\n",
       "\\textbf{No. Observations:} &        1696      & \\textbf{                     } &             \\\\\n",
       "\\bottomrule\n",
       "\\end{tabular}\n",
       "\\begin{tabular}{lcccccc}\n",
       "             & \\textbf{coef} & \\textbf{std err} & \\textbf{z} & \\textbf{P$> |$z$|$} & \\textbf{[0.025} & \\textbf{0.975]}  \\\\\n",
       "\\midrule\n",
       "\\textbf{p 0} &      -0.0200  &        0.021     &    -0.964  &         0.335        &       -0.061    &        0.021     \\\\\n",
       "\\textbf{p 1} &       0.0011  &        0.001     &     1.843  &         0.065        &    -6.89e-05    &        0.002     \\\\\n",
       "\\textbf{p 2} &      -0.1071  &        0.032     &    -3.370  &         0.001        &       -0.169    &       -0.045     \\\\\n",
       "\\textbf{p 3} &       0.0011  &        0.000     &     2.760  &         0.006        &        0.000    &        0.002     \\\\\n",
       "\\bottomrule\n",
       "\\end{tabular}\n",
       "%\\caption{gmm Results}\n",
       "\\end{center}"
      ],
      "text/plain": [
       "<class 'statsmodels.iolib.summary.Summary'>\n",
       "\"\"\"\n",
       "                                 gmm Results                                  \n",
       "==============================================================================\n",
       "Dep. Variable:                      y   Hansen J:                       0.6317\n",
       "Model:                            gmm   Prob (Hansen J):                 0.729\n",
       "Method:                           GMM                                         \n",
       "Date:                Tue, 07 Oct 2025                                         \n",
       "Time:                        20:23:10                                         \n",
       "No. Observations:                1696                                         \n",
       "==============================================================================\n",
       "                 coef    std err          z      P>|z|      [0.025      0.975]\n",
       "------------------------------------------------------------------------------\n",
       "p 0           -0.0200      0.021     -0.964      0.335      -0.061       0.021\n",
       "p 1            0.0011      0.001      1.843      0.065   -6.89e-05       0.002\n",
       "p 2           -0.1071      0.032     -3.370      0.001      -0.169      -0.045\n",
       "p 3            0.0011      0.000      2.760      0.006       0.000       0.002\n",
       "==============================================================================\n",
       "\"\"\""
      ]
     },
     "execution_count": 30,
     "metadata": {},
     "output_type": "execute_result"
    }
   ],
   "source": [
    "res.summary()"
   ]
  },
  {
   "cell_type": "code",
   "execution_count": 32,
   "id": "d7f9387f",
   "metadata": {},
   "outputs": [],
   "source": [
    "ac = residuals['Residuals']"
   ]
  },
  {
   "cell_type": "code",
   "execution_count": 33,
   "id": "082ae7be",
   "metadata": {},
   "outputs": [],
   "source": [
    "ac = residuals['Residuals']\n",
    "ac = ac.to_frame()"
   ]
  },
  {
   "cell_type": "code",
   "execution_count": 34,
   "id": "ea987f4d",
   "metadata": {},
   "outputs": [],
   "source": [
    "ac['Lag1'] = ac['Residuals'].shift(1)"
   ]
  },
  {
   "cell_type": "code",
   "execution_count": 35,
   "id": "ca8c354a",
   "metadata": {},
   "outputs": [],
   "source": [
    "ac['Lag2'] = ac['Residuals'].shift(2)"
   ]
  },
  {
   "cell_type": "code",
   "execution_count": 36,
   "id": "f3cc72c6",
   "metadata": {},
   "outputs": [],
   "source": [
    "ac['Lag3'] = ac['Residuals'].shift(3)"
   ]
  },
  {
   "cell_type": "code",
   "execution_count": 37,
   "id": "682a8f4a",
   "metadata": {},
   "outputs": [
    {
     "data": {
      "text/html": [
       "<div>\n",
       "<style scoped>\n",
       "    .dataframe tbody tr th:only-of-type {\n",
       "        vertical-align: middle;\n",
       "    }\n",
       "\n",
       "    .dataframe tbody tr th {\n",
       "        vertical-align: top;\n",
       "    }\n",
       "\n",
       "    .dataframe thead th {\n",
       "        text-align: right;\n",
       "    }\n",
       "</style>\n",
       "<table border=\"1\" class=\"dataframe\">\n",
       "  <thead>\n",
       "    <tr style=\"text-align: right;\">\n",
       "      <th></th>\n",
       "      <th>Residuals</th>\n",
       "      <th>Lag1</th>\n",
       "      <th>Lag2</th>\n",
       "      <th>Lag3</th>\n",
       "    </tr>\n",
       "  </thead>\n",
       "  <tbody>\n",
       "    <tr>\n",
       "      <th>Residuals</th>\n",
       "      <td>1.000000</td>\n",
       "      <td>-0.122647</td>\n",
       "      <td>-0.145330</td>\n",
       "      <td>-0.047142</td>\n",
       "    </tr>\n",
       "    <tr>\n",
       "      <th>Lag1</th>\n",
       "      <td>-0.122647</td>\n",
       "      <td>1.000000</td>\n",
       "      <td>-0.122683</td>\n",
       "      <td>-0.145371</td>\n",
       "    </tr>\n",
       "    <tr>\n",
       "      <th>Lag2</th>\n",
       "      <td>-0.145330</td>\n",
       "      <td>-0.122683</td>\n",
       "      <td>1.000000</td>\n",
       "      <td>-0.122231</td>\n",
       "    </tr>\n",
       "    <tr>\n",
       "      <th>Lag3</th>\n",
       "      <td>-0.047142</td>\n",
       "      <td>-0.145371</td>\n",
       "      <td>-0.122231</td>\n",
       "      <td>1.000000</td>\n",
       "    </tr>\n",
       "  </tbody>\n",
       "</table>\n",
       "</div>"
      ],
      "text/plain": [
       "           Residuals      Lag1      Lag2      Lag3\n",
       "Residuals   1.000000 -0.122647 -0.145330 -0.047142\n",
       "Lag1       -0.122647  1.000000 -0.122683 -0.145371\n",
       "Lag2       -0.145330 -0.122683  1.000000 -0.122231\n",
       "Lag3       -0.047142 -0.145371 -0.122231  1.000000"
      ]
     },
     "execution_count": 37,
     "metadata": {},
     "output_type": "execute_result"
    }
   ],
   "source": [
    "ac.corr()"
   ]
  },
  {
   "cell_type": "code",
   "execution_count": 38,
   "id": "2f6aa595",
   "metadata": {},
   "outputs": [
    {
     "data": {
      "text/plain": [
       "<Axes: xlabel='Lag', ylabel='Autocorrelation'>"
      ]
     },
     "execution_count": 38,
     "metadata": {},
     "output_type": "execute_result"
    },
    {
     "data": {
      "image/png": "[encoded data removed]",
      "text/plain": [
       "<Figure size 640x480 with 1 Axes>"
      ]
     },
     "metadata": {},
     "output_type": "display_data"
    }
   ],
   "source": [
    "pd.plotting.autocorrelation_plot(residuals['Residuals'])"
   ]
  },
  {
   "cell_type": "code",
   "execution_count": 39,
   "id": "64c0456f",
   "metadata": {},
   "outputs": [
    {
     "data": {
      "text/plain": [
       "<matplotlib.collections.PathCollection at 0x118eaafd0>"
      ]
     },
     "execution_count": 39,
     "metadata": {},
     "output_type": "execute_result"
    },
    {
     "data": {
      "image/png": "[encoded data removed]",
      "text/plain": [
       "<Figure size 640x480 with 1 Axes>"
      ]
     },
     "metadata": {},
     "output_type": "display_data"
    }
   ],
   "source": [
    "plt.scatter(ac['Residuals'],ac['Lag1'])"
   ]
  },
  {
   "cell_type": "code",
   "execution_count": 40,
   "id": "991c0806",
   "metadata": {},
   "outputs": [
    {
     "data": {
      "text/plain": [
       "np.float64(0.34050415488565744)"
      ]
     },
     "execution_count": 40,
     "metadata": {},
     "output_type": "execute_result"
    }
   ],
   "source": [
    "residuals['Residuals'].abs().mean()"
   ]
  }
 ],
 "metadata": {
  "kernelspec": {
   "display_name": "Python 3",
   "language": "python",
   "name": "python3"
  },
  "language_info": {
   "codemirror_mode": {
    "name": "ipython",
    "version": 3
   },
   "file_extension": ".py",
   "mimetype": "text/x-python",
   "name": "python",
   "nbconvert_exporter": "python",
   "pygments_lexer": "ipython3",
   "version": "3.13.5"
  }
 },
 "nbformat": 4,
 "nbformat_minor": 5
}

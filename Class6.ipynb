{
 "cells": [
  {
   "cell_type": "code",
   "execution_count": 1,
   "id": "f35828b3",
   "metadata": {},
   "outputs": [],
   "source": [
    "# we will use the Iris dataset for the Logistice Regression "
   ]
  },
  {
   "cell_type": "code",
   "execution_count": 2,
   "id": "07405c01",
   "metadata": {},
   "outputs": [],
   "source": [
    "# import the necessary libraries\n",
    "import numpy as np\n",
    "import pandas as pd\n",
    "from sklearn.datasets import load_iris\n",
    "from sklearn.linear_model import LogisticRegression\n",
    "from sklearn.metrics import f1_score, precision_score, recall_score, confusion_matrix"
   ]
  },
  {
   "cell_type": "code",
   "execution_count": 3,
   "id": "b3f34bdc",
   "metadata": {},
   "outputs": [],
   "source": [
    "X, y = load_iris(return_X_y=True)"
   ]
  },
  {
   "cell_type": "code",
   "execution_count": 4,
   "id": "754c4393",
   "metadata": {},
   "outputs": [],
   "source": [
    "iris_df = pd.DataFrame(X, columns=['sepal_length', 'sepal_width', 'petal_length', 'petal_width'])\n",
    "iris_df['target'] = y"
   ]
  },
  {
   "cell_type": "code",
   "execution_count": 5,
   "id": "56420221",
   "metadata": {},
   "outputs": [
    {
     "data": {
      "text/html": [
       "<div>\n",
       "<style scoped>\n",
       "    .dataframe tbody tr th:only-of-type {\n",
       "        vertical-align: middle;\n",
       "    }\n",
       "\n",
       "    .dataframe tbody tr th {\n",
       "        vertical-align: top;\n",
       "    }\n",
       "\n",
       "    .dataframe thead th {\n",
       "        text-align: right;\n",
       "    }\n",
       "</style>\n",
       "<table border=\"1\" class=\"dataframe\">\n",
       "  <thead>\n",
       "    <tr style=\"text-align: right;\">\n",
       "      <th></th>\n",
       "      <th>sepal_length</th>\n",
       "      <th>sepal_width</th>\n",
       "      <th>petal_length</th>\n",
       "      <th>petal_width</th>\n",
       "      <th>target</th>\n",
       "    </tr>\n",
       "  </thead>\n",
       "  <tbody>\n",
       "    <tr>\n",
       "      <th>0</th>\n",
       "      <td>5.1</td>\n",
       "      <td>3.5</td>\n",
       "      <td>1.4</td>\n",
       "      <td>0.2</td>\n",
       "      <td>0</td>\n",
       "    </tr>\n",
       "    <tr>\n",
       "      <th>1</th>\n",
       "      <td>4.9</td>\n",
       "      <td>3.0</td>\n",
       "      <td>1.4</td>\n",
       "      <td>0.2</td>\n",
       "      <td>0</td>\n",
       "    </tr>\n",
       "    <tr>\n",
       "      <th>2</th>\n",
       "      <td>4.7</td>\n",
       "      <td>3.2</td>\n",
       "      <td>1.3</td>\n",
       "      <td>0.2</td>\n",
       "      <td>0</td>\n",
       "    </tr>\n",
       "    <tr>\n",
       "      <th>3</th>\n",
       "      <td>4.6</td>\n",
       "      <td>3.1</td>\n",
       "      <td>1.5</td>\n",
       "      <td>0.2</td>\n",
       "      <td>0</td>\n",
       "    </tr>\n",
       "    <tr>\n",
       "      <th>4</th>\n",
       "      <td>5.0</td>\n",
       "      <td>3.6</td>\n",
       "      <td>1.4</td>\n",
       "      <td>0.2</td>\n",
       "      <td>0</td>\n",
       "    </tr>\n",
       "    <tr>\n",
       "      <th>...</th>\n",
       "      <td>...</td>\n",
       "      <td>...</td>\n",
       "      <td>...</td>\n",
       "      <td>...</td>\n",
       "      <td>...</td>\n",
       "    </tr>\n",
       "    <tr>\n",
       "      <th>145</th>\n",
       "      <td>6.7</td>\n",
       "      <td>3.0</td>\n",
       "      <td>5.2</td>\n",
       "      <td>2.3</td>\n",
       "      <td>2</td>\n",
       "    </tr>\n",
       "    <tr>\n",
       "      <th>146</th>\n",
       "      <td>6.3</td>\n",
       "      <td>2.5</td>\n",
       "      <td>5.0</td>\n",
       "      <td>1.9</td>\n",
       "      <td>2</td>\n",
       "    </tr>\n",
       "    <tr>\n",
       "      <th>147</th>\n",
       "      <td>6.5</td>\n",
       "      <td>3.0</td>\n",
       "      <td>5.2</td>\n",
       "      <td>2.0</td>\n",
       "      <td>2</td>\n",
       "    </tr>\n",
       "    <tr>\n",
       "      <th>148</th>\n",
       "      <td>6.2</td>\n",
       "      <td>3.4</td>\n",
       "      <td>5.4</td>\n",
       "      <td>2.3</td>\n",
       "      <td>2</td>\n",
       "    </tr>\n",
       "    <tr>\n",
       "      <th>149</th>\n",
       "      <td>5.9</td>\n",
       "      <td>3.0</td>\n",
       "      <td>5.1</td>\n",
       "      <td>1.8</td>\n",
       "      <td>2</td>\n",
       "    </tr>\n",
       "  </tbody>\n",
       "</table>\n",
       "<p>150 rows × 5 columns</p>\n",
       "</div>"
      ],
      "text/plain": [
       "     sepal_length  sepal_width  petal_length  petal_width  target\n",
       "0             5.1          3.5           1.4          0.2       0\n",
       "1             4.9          3.0           1.4          0.2       0\n",
       "2             4.7          3.2           1.3          0.2       0\n",
       "3             4.6          3.1           1.5          0.2       0\n",
       "4             5.0          3.6           1.4          0.2       0\n",
       "..            ...          ...           ...          ...     ...\n",
       "145           6.7          3.0           5.2          2.3       2\n",
       "146           6.3          2.5           5.0          1.9       2\n",
       "147           6.5          3.0           5.2          2.0       2\n",
       "148           6.2          3.4           5.4          2.3       2\n",
       "149           5.9          3.0           5.1          1.8       2\n",
       "\n",
       "[150 rows x 5 columns]"
      ]
     },
     "execution_count": 5,
     "metadata": {},
     "output_type": "execute_result"
    }
   ],
   "source": [
    "iris_df"
   ]
  },
  {
   "cell_type": "code",
   "execution_count": 6,
   "id": "b2fad0a5",
   "metadata": {},
   "outputs": [
    {
     "data": {
      "text/plain": [
       "<seaborn.axisgrid.FacetGrid at 0x1257d2cf0>"
      ]
     },
     "execution_count": 6,
     "metadata": {},
     "output_type": "execute_result"
    },
    {
     "data": {
      "image/png": "[encoded data removed]",
      "text/plain": [
       "<Figure size 558.875x500 with 1 Axes>"
      ]
     },
     "metadata": {},
     "output_type": "display_data"
    }
   ],
   "source": [
    "# visual the data to understand it better\n",
    "import seaborn as sns\n",
    "sns.lmplot(iris_df, x='petal_length', y = 'petal_width', hue='target')"
   ]
  },
  {
   "cell_type": "code",
   "execution_count": 7,
   "id": "061541e1",
   "metadata": {},
   "outputs": [
    {
     "data": {
      "text/plain": [
       "<seaborn.axisgrid.FacetGrid at 0x13d1e0550>"
      ]
     },
     "execution_count": 7,
     "metadata": {},
     "output_type": "execute_result"
    },
    {
     "data": {
      "image/png": "[encoded data removed]",
      "text/plain": [
       "<Figure size 558.875x500 with 1 Axes>"
      ]
     },
     "metadata": {},
     "output_type": "display_data"
    }
   ],
   "source": [
    "sns.lmplot(iris_df, x='sepal_length', y = 'sepal_width', hue='target')"
   ]
  },
  {
   "cell_type": "code",
   "execution_count": 8,
   "id": "49cefddf",
   "metadata": {},
   "outputs": [],
   "source": [
    "# features that makes the ctegories seprarble that will make the model works well but if not it won't work"
   ]
  },
  {
   "cell_type": "code",
   "execution_count": 9,
   "id": "849ec542",
   "metadata": {},
   "outputs": [],
   "source": [
    "# call and fit the model \n",
    "model = LogisticRegression(random_state = 0, max_iter = 1000).fit(X,y)"
   ]
  },
  {
   "cell_type": "code",
   "execution_count": 11,
   "id": "439cf344",
   "metadata": {},
   "outputs": [
    {
     "data": {
      "text/plain": [
       "array([  9.85443729,   2.23270878, -12.08714607])"
      ]
     },
     "execution_count": 11,
     "metadata": {},
     "output_type": "execute_result"
    }
   ],
   "source": [
    "# intercept values\n",
    "model.intercept_"
   ]
  },
  {
   "cell_type": "code",
   "execution_count": 12,
   "id": "bae1a9de",
   "metadata": {},
   "outputs": [
    {
     "data": {
      "text/plain": [
       "array([[-0.42468213,  0.96714132, -2.51552827, -1.08228622],\n",
       "       [ 0.53509422, -0.32079311, -0.20713148, -0.94316337],\n",
       "       [-0.11041209, -0.64634822,  2.72265975,  2.02544959]])"
      ]
     },
     "execution_count": 12,
     "metadata": {},
     "output_type": "execute_result"
    }
   ],
   "source": [
    "# model coefficients\n",
    "model.coef_"
   ]
  },
  {
   "cell_type": "code",
   "execution_count": 13,
   "id": "443e9f4c",
   "metadata": {},
   "outputs": [],
   "source": [
    "# the above will show the features importance and directions and it can be used "
   ]
  },
  {
   "cell_type": "code",
   "execution_count": 15,
   "id": "ffbbbc99",
   "metadata": {},
   "outputs": [
    {
     "data": {
      "text/plain": [
       "array([[5.1, 3.5, 1.4, 0.2],\n",
       "       [4.9, 3. , 1.4, 0.2],\n",
       "       [4.7, 3.2, 1.3, 0.2],\n",
       "       [4.6, 3.1, 1.5, 0.2],\n",
       "       [5. , 3.6, 1.4, 0.2],\n",
       "       [5.4, 3.9, 1.7, 0.4],\n",
       "       [4.6, 3.4, 1.4, 0.3],\n",
       "       [5. , 3.4, 1.5, 0.2],\n",
       "       [4.4, 2.9, 1.4, 0.2],\n",
       "       [4.9, 3.1, 1.5, 0.1],\n",
       "       [5.4, 3.7, 1.5, 0.2],\n",
       "       [4.8, 3.4, 1.6, 0.2],\n",
       "       [4.8, 3. , 1.4, 0.1],\n",
       "       [4.3, 3. , 1.1, 0.1],\n",
       "       [5.8, 4. , 1.2, 0.2],\n",
       "       [5.7, 4.4, 1.5, 0.4],\n",
       "       [5.4, 3.9, 1.3, 0.4],\n",
       "       [5.1, 3.5, 1.4, 0.3],\n",
       "       [5.7, 3.8, 1.7, 0.3],\n",
       "       [5.1, 3.8, 1.5, 0.3],\n",
       "       [5.4, 3.4, 1.7, 0.2],\n",
       "       [5.1, 3.7, 1.5, 0.4],\n",
       "       [4.6, 3.6, 1. , 0.2],\n",
       "       [5.1, 3.3, 1.7, 0.5],\n",
       "       [4.8, 3.4, 1.9, 0.2],\n",
       "       [5. , 3. , 1.6, 0.2],\n",
       "       [5. , 3.4, 1.6, 0.4],\n",
       "       [5.2, 3.5, 1.5, 0.2],\n",
       "       [5.2, 3.4, 1.4, 0.2],\n",
       "       [4.7, 3.2, 1.6, 0.2],\n",
       "       [4.8, 3.1, 1.6, 0.2],\n",
       "       [5.4, 3.4, 1.5, 0.4],\n",
       "       [5.2, 4.1, 1.5, 0.1],\n",
       "       [5.5, 4.2, 1.4, 0.2],\n",
       "       [4.9, 3.1, 1.5, 0.2],\n",
       "       [5. , 3.2, 1.2, 0.2],\n",
       "       [5.5, 3.5, 1.3, 0.2],\n",
       "       [4.9, 3.6, 1.4, 0.1],\n",
       "       [4.4, 3. , 1.3, 0.2],\n",
       "       [5.1, 3.4, 1.5, 0.2],\n",
       "       [5. , 3.5, 1.3, 0.3],\n",
       "       [4.5, 2.3, 1.3, 0.3],\n",
       "       [4.4, 3.2, 1.3, 0.2],\n",
       "       [5. , 3.5, 1.6, 0.6],\n",
       "       [5.1, 3.8, 1.9, 0.4],\n",
       "       [4.8, 3. , 1.4, 0.3],\n",
       "       [5.1, 3.8, 1.6, 0.2],\n",
       "       [4.6, 3.2, 1.4, 0.2],\n",
       "       [5.3, 3.7, 1.5, 0.2],\n",
       "       [5. , 3.3, 1.4, 0.2],\n",
       "       [7. , 3.2, 4.7, 1.4],\n",
       "       [6.4, 3.2, 4.5, 1.5],\n",
       "       [6.9, 3.1, 4.9, 1.5],\n",
       "       [5.5, 2.3, 4. , 1.3],\n",
       "       [6.5, 2.8, 4.6, 1.5],\n",
       "       [5.7, 2.8, 4.5, 1.3],\n",
       "       [6.3, 3.3, 4.7, 1.6],\n",
       "       [4.9, 2.4, 3.3, 1. ],\n",
       "       [6.6, 2.9, 4.6, 1.3],\n",
       "       [5.2, 2.7, 3.9, 1.4],\n",
       "       [5. , 2. , 3.5, 1. ],\n",
       "       [5.9, 3. , 4.2, 1.5],\n",
       "       [6. , 2.2, 4. , 1. ],\n",
       "       [6.1, 2.9, 4.7, 1.4],\n",
       "       [5.6, 2.9, 3.6, 1.3],\n",
       "       [6.7, 3.1, 4.4, 1.4],\n",
       "       [5.6, 3. , 4.5, 1.5],\n",
       "       [5.8, 2.7, 4.1, 1. ],\n",
       "       [6.2, 2.2, 4.5, 1.5],\n",
       "       [5.6, 2.5, 3.9, 1.1],\n",
       "       [5.9, 3.2, 4.8, 1.8],\n",
       "       [6.1, 2.8, 4. , 1.3],\n",
       "       [6.3, 2.5, 4.9, 1.5],\n",
       "       [6.1, 2.8, 4.7, 1.2],\n",
       "       [6.4, 2.9, 4.3, 1.3],\n",
       "       [6.6, 3. , 4.4, 1.4],\n",
       "       [6.8, 2.8, 4.8, 1.4],\n",
       "       [6.7, 3. , 5. , 1.7],\n",
       "       [6. , 2.9, 4.5, 1.5],\n",
       "       [5.7, 2.6, 3.5, 1. ],\n",
       "       [5.5, 2.4, 3.8, 1.1],\n",
       "       [5.5, 2.4, 3.7, 1. ],\n",
       "       [5.8, 2.7, 3.9, 1.2],\n",
       "       [6. , 2.7, 5.1, 1.6],\n",
       "       [5.4, 3. , 4.5, 1.5],\n",
       "       [6. , 3.4, 4.5, 1.6],\n",
       "       [6.7, 3.1, 4.7, 1.5],\n",
       "       [6.3, 2.3, 4.4, 1.3],\n",
       "       [5.6, 3. , 4.1, 1.3],\n",
       "       [5.5, 2.5, 4. , 1.3],\n",
       "       [5.5, 2.6, 4.4, 1.2],\n",
       "       [6.1, 3. , 4.6, 1.4],\n",
       "       [5.8, 2.6, 4. , 1.2],\n",
       "       [5. , 2.3, 3.3, 1. ],\n",
       "       [5.6, 2.7, 4.2, 1.3],\n",
       "       [5.7, 3. , 4.2, 1.2],\n",
       "       [5.7, 2.9, 4.2, 1.3],\n",
       "       [6.2, 2.9, 4.3, 1.3],\n",
       "       [5.1, 2.5, 3. , 1.1],\n",
       "       [5.7, 2.8, 4.1, 1.3],\n",
       "       [6.3, 3.3, 6. , 2.5],\n",
       "       [5.8, 2.7, 5.1, 1.9],\n",
       "       [7.1, 3. , 5.9, 2.1],\n",
       "       [6.3, 2.9, 5.6, 1.8],\n",
       "       [6.5, 3. , 5.8, 2.2],\n",
       "       [7.6, 3. , 6.6, 2.1],\n",
       "       [4.9, 2.5, 4.5, 1.7],\n",
       "       [7.3, 2.9, 6.3, 1.8],\n",
       "       [6.7, 2.5, 5.8, 1.8],\n",
       "       [7.2, 3.6, 6.1, 2.5],\n",
       "       [6.5, 3.2, 5.1, 2. ],\n",
       "       [6.4, 2.7, 5.3, 1.9],\n",
       "       [6.8, 3. , 5.5, 2.1],\n",
       "       [5.7, 2.5, 5. , 2. ],\n",
       "       [5.8, 2.8, 5.1, 2.4],\n",
       "       [6.4, 3.2, 5.3, 2.3],\n",
       "       [6.5, 3. , 5.5, 1.8],\n",
       "       [7.7, 3.8, 6.7, 2.2],\n",
       "       [7.7, 2.6, 6.9, 2.3],\n",
       "       [6. , 2.2, 5. , 1.5],\n",
       "       [6.9, 3.2, 5.7, 2.3],\n",
       "       [5.6, 2.8, 4.9, 2. ],\n",
       "       [7.7, 2.8, 6.7, 2. ],\n",
       "       [6.3, 2.7, 4.9, 1.8],\n",
       "       [6.7, 3.3, 5.7, 2.1],\n",
       "       [7.2, 3.2, 6. , 1.8],\n",
       "       [6.2, 2.8, 4.8, 1.8],\n",
       "       [6.1, 3. , 4.9, 1.8],\n",
       "       [6.4, 2.8, 5.6, 2.1],\n",
       "       [7.2, 3. , 5.8, 1.6],\n",
       "       [7.4, 2.8, 6.1, 1.9],\n",
       "       [7.9, 3.8, 6.4, 2. ],\n",
       "       [6.4, 2.8, 5.6, 2.2],\n",
       "       [6.3, 2.8, 5.1, 1.5],\n",
       "       [6.1, 2.6, 5.6, 1.4],\n",
       "       [7.7, 3. , 6.1, 2.3],\n",
       "       [6.3, 3.4, 5.6, 2.4],\n",
       "       [6.4, 3.1, 5.5, 1.8],\n",
       "       [6. , 3. , 4.8, 1.8],\n",
       "       [6.9, 3.1, 5.4, 2.1],\n",
       "       [6.7, 3.1, 5.6, 2.4],\n",
       "       [6.9, 3.1, 5.1, 2.3],\n",
       "       [5.8, 2.7, 5.1, 1.9],\n",
       "       [6.8, 3.2, 5.9, 2.3],\n",
       "       [6.7, 3.3, 5.7, 2.5],\n",
       "       [6.7, 3. , 5.2, 2.3],\n",
       "       [6.3, 2.5, 5. , 1.9],\n",
       "       [6.5, 3. , 5.2, 2. ],\n",
       "       [6.2, 3.4, 5.4, 2.3],\n",
       "       [5.9, 3. , 5.1, 1.8]])"
      ]
     },
     "execution_count": 15,
     "metadata": {},
     "output_type": "execute_result"
    }
   ],
   "source": [
    "X"
   ]
  },
  {
   "cell_type": "code",
   "execution_count": 16,
   "id": "dac3f73d",
   "metadata": {},
   "outputs": [
    {
     "data": {
      "text/plain": [
       "array([0, 0, 0, 0, 0, 0, 0, 0, 0, 0, 0, 0, 0, 0, 0, 0, 0, 0, 0, 0, 0, 0,\n",
       "       0, 0, 0, 0, 0, 0, 0, 0, 0, 0, 0, 0, 0, 0, 0, 0, 0, 0, 0, 0, 0, 0,\n",
       "       0, 0, 0, 0, 0, 0, 1, 1, 1, 1, 1, 1, 1, 1, 1, 1, 1, 1, 1, 1, 1, 1,\n",
       "       1, 1, 1, 1, 1, 1, 1, 1, 1, 1, 1, 1, 1, 1, 1, 1, 1, 1, 1, 1, 1, 1,\n",
       "       1, 1, 1, 1, 1, 1, 1, 1, 1, 1, 1, 1, 2, 2, 2, 2, 2, 2, 2, 2, 2, 2,\n",
       "       2, 2, 2, 2, 2, 2, 2, 2, 2, 2, 2, 2, 2, 2, 2, 2, 2, 2, 2, 2, 2, 2,\n",
       "       2, 2, 2, 2, 2, 2, 2, 2, 2, 2, 2, 2, 2, 2, 2, 2, 2, 2])"
      ]
     },
     "execution_count": 16,
     "metadata": {},
     "output_type": "execute_result"
    }
   ],
   "source": [
    "y"
   ]
  },
  {
   "cell_type": "code",
   "execution_count": 14,
   "id": "7ab82db9",
   "metadata": {},
   "outputs": [
    {
     "data": {
      "text/plain": [
       "array([[9.81567923e-01, 1.84320627e-02, 1.44928093e-08],\n",
       "       [9.71336447e-01, 2.86635225e-02, 3.01765481e-08],\n",
       "       [9.85275791e-01, 1.47241967e-02, 1.23288623e-08],\n",
       "       [9.76082404e-01, 2.39175562e-02, 3.96514697e-08],\n",
       "       [9.85223491e-01, 1.47764974e-02, 1.19962482e-08],\n",
       "       [9.70169930e-01, 2.98299956e-02, 7.39849289e-08],\n",
       "       [9.86773791e-01, 1.32261886e-02, 1.99639818e-08],\n",
       "       [9.76140006e-01, 2.38599658e-02, 2.77115191e-08],\n",
       "       [9.79650526e-01, 2.03494438e-02, 3.05633629e-08],\n",
       "       [9.68778003e-01, 3.12219650e-02, 3.16938901e-08],\n",
       "       [9.76197470e-01, 2.38025106e-02, 1.93669538e-08],\n",
       "       [9.75217382e-01, 2.47825745e-02, 4.38979381e-08],\n",
       "       [9.74242557e-01, 2.57574215e-02, 2.14956779e-08],\n",
       "       [9.91880582e-01, 8.11941414e-03, 3.88531038e-09],\n",
       "       [9.87977291e-01, 1.20227064e-02, 2.84558243e-09],\n",
       "       [9.86608716e-01, 1.33912709e-02, 1.29430935e-08],\n",
       "       [9.87935078e-01, 1.20649129e-02, 9.26952319e-09],\n",
       "       [9.81314518e-01, 1.86854617e-02, 1.97700467e-08],\n",
       "       [9.56024091e-01, 4.39758398e-02, 6.89946983e-08],\n",
       "       [9.83962951e-01, 1.60370288e-02, 2.06277069e-08],\n",
       "       [9.46130320e-01, 5.38695927e-02, 8.68313816e-08],\n",
       "       [9.81548403e-01, 1.84515644e-02, 3.29931771e-08],\n",
       "       [9.95958540e-01, 4.04145900e-03, 1.31580395e-09],\n",
       "       [9.51809905e-01, 4.81898579e-02, 2.37303947e-07],\n",
       "       [9.51662203e-01, 4.83375912e-02, 2.06205552e-07],\n",
       "       [9.50985788e-01, 4.90141252e-02, 8.69171957e-08],\n",
       "       [9.69312658e-01, 3.06872551e-02, 8.65044052e-08],\n",
       "       [9.74623835e-01, 2.53761402e-02, 2.50731812e-08],\n",
       "       [9.77029088e-01, 2.29708949e-02, 1.74928773e-08],\n",
       "       [9.70996557e-01, 2.90033847e-02, 5.84867817e-08],\n",
       "       [9.63950166e-01, 3.60497631e-02, 7.04070507e-08],\n",
       "       [9.64417396e-01, 3.55825466e-02, 5.78018925e-08],\n",
       "       [9.88282841e-01, 1.17171523e-02, 7.07699113e-09],\n",
       "       [9.88933479e-01, 1.10665161e-02, 5.35159050e-09],\n",
       "       [9.68354430e-01, 3.16455272e-02, 4.32267787e-08],\n",
       "       [9.84424157e-01, 1.55758349e-02, 8.01680942e-09],\n",
       "       [9.78584417e-01, 2.14155735e-02, 9.70360700e-09],\n",
       "       [9.86740854e-01, 1.32591373e-02, 8.53292581e-09],\n",
       "       [9.85709608e-01, 1.42903767e-02, 1.54993818e-08],\n",
       "       [9.73799459e-01, 2.62005127e-02, 2.85276715e-08],\n",
       "       [9.86453176e-01, 1.35468128e-02, 1.14060628e-08],\n",
       "       [9.61665990e-01, 3.83339439e-02, 6.58743272e-08],\n",
       "       [9.88918790e-01, 1.10811990e-02, 1.12610813e-08],\n",
       "       [9.72177781e-01, 2.78220819e-02, 1.37461656e-07],\n",
       "       [9.60052095e-01, 3.99476822e-02, 2.23203355e-07],\n",
       "       [9.73535019e-01, 2.64649406e-02, 3.99917243e-08],\n",
       "       [9.80155011e-01, 1.98449632e-02, 2.54267782e-08],\n",
       "       [9.83185665e-01, 1.68143149e-02, 2.01299997e-08],\n",
       "       [9.78328566e-01, 2.16714149e-02, 1.88087441e-08],\n",
       "       [9.78404736e-01, 2.15952449e-02, 1.93307237e-08],\n",
       "       [2.12455903e-03, 8.74031963e-01, 1.23843478e-01],\n",
       "       [5.81688376e-03, 8.59786821e-01, 1.34396295e-01],\n",
       "       [1.06020348e-03, 7.25180781e-01, 2.73759015e-01],\n",
       "       [1.54292634e-02, 9.39647711e-01, 4.49230258e-02],\n",
       "       [2.37630823e-03, 8.15220802e-01, 1.82402890e-01],\n",
       "       [6.99808512e-03, 8.60111563e-01, 1.32890352e-01],\n",
       "       [3.77266706e-03, 7.16603401e-01, 2.79623932e-01],\n",
       "       [1.47976925e-01, 8.48968081e-01, 3.05499382e-03],\n",
       "       [2.77714658e-03, 8.96675913e-01, 1.00546940e-01],\n",
       "       [4.15238118e-02, 9.11846867e-01, 4.66293210e-02],\n",
       "       [5.58995333e-02, 9.37626832e-01, 6.47363438e-03],\n",
       "       [1.51803674e-02, 8.98837661e-01, 8.59819711e-02],\n",
       "       [9.09624072e-03, 9.76568689e-01, 1.43350704e-02],\n",
       "       [3.05338710e-03, 7.79291980e-01, 2.17654633e-01],\n",
       "       [7.44367269e-02, 9.15112331e-01, 1.04509417e-02],\n",
       "       [5.27720098e-03, 9.26385098e-01, 6.83377009e-02],\n",
       "       [8.72986278e-03, 7.74668540e-01, 2.16601597e-01],\n",
       "       [1.64645070e-02, 9.65173650e-01, 1.83618435e-02],\n",
       "       [1.81098431e-03, 8.00926732e-01, 1.97262284e-01],\n",
       "       [2.39833481e-02, 9.59416573e-01, 1.66000790e-02],\n",
       "       [2.30907968e-03, 4.40159228e-01, 5.57531692e-01],\n",
       "       [1.68179921e-02, 9.56792907e-01, 2.63891010e-02],\n",
       "       [7.15884495e-04, 5.96225249e-01, 4.03058866e-01],\n",
       "       [3.04573121e-03, 8.59924135e-01, 1.37030133e-01],\n",
       "       [7.07268585e-03, 9.42971916e-01, 4.99553986e-02],\n",
       "       [5.07235144e-03, 9.20129568e-01, 7.47980803e-02],\n",
       "       [1.11958918e-03, 8.01570300e-01, 1.97310111e-01],\n",
       "       [5.78559536e-04, 4.81183515e-01, 5.18237925e-01],\n",
       "       [5.48739710e-03, 8.13091466e-01, 1.81421137e-01],\n",
       "       [6.16594303e-02, 9.34961153e-01, 3.37941675e-03],\n",
       "       [2.91684311e-02, 9.57215674e-01, 1.36158947e-02],\n",
       "       [3.71818037e-02, 9.55284559e-01, 7.53363718e-03],\n",
       "       [2.51791492e-02, 9.56482517e-01, 1.83383338e-02],\n",
       "       [4.50248992e-04, 3.49663859e-01, 6.49885892e-01],\n",
       "       [1.02522854e-02, 7.50868824e-01, 2.38878891e-01],\n",
       "       [9.99541988e-03, 7.88759632e-01, 2.01244948e-01],\n",
       "       [2.26326578e-03, 8.05235117e-01, 1.92501617e-01],\n",
       "       [2.76345133e-03, 9.13149195e-01, 8.40873535e-02],\n",
       "       [2.70873448e-02, 9.28498673e-01, 4.44139818e-02],\n",
       "       [1.99285399e-02, 9.38051719e-01, 4.20197406e-02],\n",
       "       [8.73829189e-03, 8.97865191e-01, 9.33965175e-02],\n",
       "       [4.64997705e-03, 8.28290098e-01, 1.67059925e-01],\n",
       "       [1.75830087e-02, 9.57008634e-01, 2.54083573e-02],\n",
       "       [1.21829801e-01, 8.75120258e-01, 3.04994079e-03],\n",
       "       [1.44852808e-02, 9.20443239e-01, 6.50714805e-02],\n",
       "       [2.00139534e-02, 9.38081698e-01, 4.19043488e-02],\n",
       "       [1.71179769e-02, 9.25414979e-01, 5.74670442e-02],\n",
       "       [8.49816010e-03, 9.35134723e-01, 5.63671167e-02],\n",
       "       [2.43565629e-01, 7.55142708e-01, 1.29166216e-03],\n",
       "       [1.91744156e-02, 9.36026421e-01, 4.47991635e-02],\n",
       "       [9.04220906e-07, 3.91349124e-03, 9.96085605e-01],\n",
       "       [2.43149708e-04, 1.62492275e-01, 8.37264575e-01],\n",
       "       [2.48129531e-06, 2.55747308e-02, 9.74422788e-01],\n",
       "       [3.12897211e-05, 8.16817151e-02, 9.18286995e-01],\n",
       "       [3.73856150e-06, 1.74393956e-02, 9.82556866e-01],\n",
       "       [5.53639293e-08, 4.64022562e-03, 9.95359719e-01],\n",
       "       [5.78712700e-03, 5.13510203e-01, 4.80702670e-01],\n",
       "       [6.22475777e-07, 2.13519713e-02, 9.78647406e-01],\n",
       "       [5.23333031e-06, 5.32688666e-02, 9.46725900e-01],\n",
       "       [6.53680781e-07, 5.74444545e-03, 9.94254901e-01],\n",
       "       [3.02046275e-04, 2.10465529e-01, 7.89232425e-01],\n",
       "       [7.27746917e-05, 1.37258574e-01, 8.62668651e-01],\n",
       "       [2.12582379e-05, 6.52533197e-02, 9.34725422e-01],\n",
       "       [2.29520599e-04, 1.45129691e-01, 8.54640788e-01],\n",
       "       [6.90107475e-05, 4.34661884e-02, 9.56464801e-01],\n",
       "       [5.15811332e-05, 5.40190190e-02, 9.45929400e-01],\n",
       "       [5.56806906e-05, 1.22915373e-01, 8.77028946e-01],\n",
       "       [8.47563571e-08, 3.56440633e-03, 9.96435509e-01],\n",
       "       [3.15110250e-09, 1.00008211e-03, 9.98999915e-01],\n",
       "       [3.90259806e-04, 4.51781874e-01, 5.47827867e-01],\n",
       "       [5.59678518e-06, 2.38460711e-02, 9.76148332e-01],\n",
       "       [6.14275449e-04, 1.90353102e-01, 8.09032622e-01],\n",
       "       [3.13979541e-08, 4.65559330e-03, 9.95344375e-01],\n",
       "       [5.85489953e-04, 3.92956408e-01, 6.06458102e-01],\n",
       "       [1.28416435e-05, 3.86113824e-02, 9.61375776e-01],\n",
       "       [4.86257644e-06, 5.15156714e-02, 9.48479466e-01],\n",
       "       [1.07243310e-03, 4.56379259e-01, 5.42548308e-01],\n",
       "       [1.02367407e-03, 3.85317443e-01, 6.13658883e-01],\n",
       "       [1.06592405e-05, 3.63238889e-02, 9.63665452e-01],\n",
       "       [1.69070280e-05, 1.42043023e-01, 8.57940070e-01],\n",
       "       [1.06394639e-06, 2.92004362e-02, 9.70798500e-01],\n",
       "       [7.03386928e-07, 1.74394619e-02, 9.82559835e-01],\n",
       "       [7.88553565e-06, 2.72482934e-02, 9.72743821e-01],\n",
       "       [5.29605279e-04, 4.75577900e-01, 5.23892495e-01],\n",
       "       [6.28879652e-05, 1.88608089e-01, 8.11329023e-01],\n",
       "       [3.92637002e-07, 1.17437836e-02, 9.88255824e-01],\n",
       "       [1.16248933e-05, 1.73257839e-02, 9.82662591e-01],\n",
       "       [6.77805612e-05, 1.19506055e-01, 8.80426164e-01],\n",
       "       [1.62199967e-03, 4.40324423e-01, 5.58053578e-01],\n",
       "       [3.96387911e-05, 9.34741719e-02, 9.06486189e-01],\n",
       "       [6.29897308e-06, 2.02818116e-02, 9.79711889e-01],\n",
       "       [9.94119060e-05, 1.20596995e-01, 8.79303593e-01],\n",
       "       [2.43149708e-04, 1.62492275e-01, 8.37264575e-01],\n",
       "       [2.04921041e-06, 1.25859786e-02, 9.87411972e-01],\n",
       "       [3.80687984e-06, 1.21012999e-02, 9.87894893e-01],\n",
       "       [5.58161305e-05, 8.00717604e-02, 9.19872423e-01],\n",
       "       [2.26995325e-04, 2.51770494e-01, 7.48002511e-01],\n",
       "       [1.38336784e-04, 1.57096362e-01, 8.42765302e-01],\n",
       "       [4.56610494e-05, 3.84255792e-02, 9.61528760e-01],\n",
       "       [4.76450116e-04, 2.34862721e-01, 7.64660829e-01]])"
      ]
     },
     "execution_count": 14,
     "metadata": {},
     "output_type": "execute_result"
    }
   ],
   "source": [
    "# get the predictions\n",
    "model.predict_proba(X)"
   ]
  },
  {
   "cell_type": "code",
   "execution_count": 17,
   "id": "9809cf06",
   "metadata": {},
   "outputs": [
    {
     "data": {
      "text/plain": [
       "array([[50,  0,  0],\n",
       "       [ 0, 47,  3],\n",
       "       [ 0,  1, 49]])"
      ]
     },
     "execution_count": 17,
     "metadata": {},
     "output_type": "execute_result"
    }
   ],
   "source": [
    "# create the confusion matrix\n",
    "confusion_matrix(y, model.predict(X))"
   ]
  },
  {
   "cell_type": "code",
   "execution_count": 18,
   "id": "fab87a12",
   "metadata": {},
   "outputs": [
    {
     "data": {
      "text/plain": [
       "0.9738247863247864"
      ]
     },
     "execution_count": 18,
     "metadata": {},
     "output_type": "execute_result"
    }
   ],
   "source": [
    "# presicion\n",
    "precision_score(y, model.predict(X), average='weighted')"
   ]
  },
  {
   "cell_type": "code",
   "execution_count": 19,
   "id": "2754ce4a",
   "metadata": {},
   "outputs": [
    {
     "data": {
      "text/plain": [
       "0.9733333333333334"
      ]
     },
     "execution_count": 19,
     "metadata": {},
     "output_type": "execute_result"
    }
   ],
   "source": [
    "#recall score\n",
    "recall_score(y, model.predict(X), average='weighted')"
   ]
  },
  {
   "cell_type": "code",
   "execution_count": 20,
   "id": "1e653796",
   "metadata": {},
   "outputs": [
    {
     "data": {
      "text/plain": [
       "0.9733226623982927"
      ]
     },
     "execution_count": 20,
     "metadata": {},
     "output_type": "execute_result"
    }
   ],
   "source": [
    "# f1 score\n",
    "f1_score(y, model.predict(X), average='weighted')"
   ]
  },
  {
   "cell_type": "code",
   "execution_count": 21,
   "id": "e847a217",
   "metadata": {},
   "outputs": [
    {
     "data": {
      "text/plain": [
       "0.9733333333333334"
      ]
     },
     "execution_count": 21,
     "metadata": {},
     "output_type": "execute_result"
    }
   ],
   "source": [
    "from sklearn.metrics import accuracy_score\n",
    "accuracy_score(y, model.predict(X))"
   ]
  }
 ],
 "metadata": {
  "kernelspec": {
   "display_name": "Python 3",
   "language": "python",
   "name": "python3"
  },
  "language_info": {
   "codemirror_mode": {
    "name": "ipython",
    "version": 3
   },
   "file_extension": ".py",
   "mimetype": "text/x-python",
   "name": "python",
   "nbconvert_exporter": "python",
   "pygments_lexer": "ipython3",
   "version": "3.13.5"
  }
 },
 "nbformat": 4,
 "nbformat_minor": 5
}

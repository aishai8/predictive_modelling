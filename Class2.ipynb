{
 "cells": [
  {
   "cell_type": "code",
   "execution_count": 1,
   "id": "aa05b215",
   "metadata": {},
   "outputs": [],
   "source": [
    "import numpy as np "
   ]
  },
  {
   "cell_type": "code",
   "execution_count": 2,
   "id": "3a6faaf9",
   "metadata": {},
   "outputs": [],
   "source": [
    "# in case we don't have numpy installed we can use the following code to install it\n",
    "# !pip install numpy\n",
    "# and if not available in pip it can be installed using conda\n",
    "# !conda install numpy\n",
    "# alert this might affect other projects that you are working on "
   ]
  },
  {
   "cell_type": "code",
   "execution_count": null,
   "id": "234de6f6",
   "metadata": {},
   "outputs": [],
   "source": [
    "# common elemnts of python\n",
    "# lists, tables, sets of dictionaries\n",
    "# common operations >> conditionals, loops\n",
    "# numpy operations\n",
    "# common pandas operations"
   ]
  },
  {
   "cell_type": "code",
   "execution_count": 7,
   "id": "50032ff1",
   "metadata": {},
   "outputs": [],
   "source": [
    "# lists --> []\n",
    "# specific type of object which have specific properties\n",
    "# sort, append, extend with item or with another list, identify positions of items, elements, count items\n",
    "# we can't remove duplicates from a list\n",
    "list1 = [12, 15, 78, 15, 25]\n",
    "list1.append(100)"
   ]
  },
  {
   "cell_type": "code",
   "execution_count": 8,
   "id": "3158a3b9",
   "metadata": {},
   "outputs": [
    {
     "data": {
      "text/plain": [
       "[12, 15, 78, 15, 25, 100]"
      ]
     },
     "execution_count": 8,
     "metadata": {},
     "output_type": "execute_result"
    }
   ],
   "source": [
    "list1"
   ]
  },
  {
   "cell_type": "code",
   "execution_count": 10,
   "id": "611cffee",
   "metadata": {},
   "outputs": [
    {
     "data": {
      "text/plain": [
       "[12, 15, 78, 15, 25, 100, [100, 200]]"
      ]
     },
     "execution_count": 10,
     "metadata": {},
     "output_type": "execute_result"
    }
   ],
   "source": [
    "# we can't append two elements\n",
    "#list1.append(100, 200) # this will give an error\n",
    "\n",
    "# but it can be done like this \n",
    "list1.append([100, 200])\n",
    "list1"
   ]
  },
  {
   "cell_type": "code",
   "execution_count": 11,
   "id": "ebc87672",
   "metadata": {},
   "outputs": [
    {
     "data": {
      "text/plain": [
       "[12, 15, 78, 15, 25, 100, [100, 200], 100, 200, 300]"
      ]
     },
     "execution_count": 11,
     "metadata": {},
     "output_type": "execute_result"
    }
   ],
   "source": [
    "# to combine lists together we use extend and not append\n",
    "list1.extend([100, 200, 300])\n",
    "list1"
   ]
  },
  {
   "cell_type": "code",
   "execution_count": 12,
   "id": "a651d654",
   "metadata": {},
   "outputs": [
    {
     "data": {
      "text/plain": [
       "[12, 15, 1000, 78, 15, 25, 100, [100, 200], 100, 200, 300]"
      ]
     },
     "execution_count": 12,
     "metadata": {},
     "output_type": "execute_result"
    }
   ],
   "source": [
    "# insert a value at a specific position\n",
    "list1.insert(2, 1000)\n",
    "list1"
   ]
  },
  {
   "cell_type": "code",
   "execution_count": null,
   "id": "340a94ce",
   "metadata": {},
   "outputs": [
    {
     "data": {
      "text/plain": [
       "[12, 15, 1000, 78, 15, 25, 100, 100, 200, 300]"
      ]
     },
     "execution_count": 13,
     "metadata": {},
     "output_type": "execute_result"
    }
   ],
   "source": [
    "# remove () or pop() to remove an element at a specific position\n",
    "list1.pop(7)\n",
    "list1"
   ]
  },
  {
   "cell_type": "code",
   "execution_count": 14,
   "id": "ef373ed4",
   "metadata": {},
   "outputs": [
    {
     "data": {
      "text/plain": [
       "[12, 1000, 78, 15, 25, 100, 100, 200, 300]"
      ]
     },
     "execution_count": 14,
     "metadata": {},
     "output_type": "execute_result"
    }
   ],
   "source": [
    "# remove() --> removes the first occurrence of a value or first time the value occurs\n",
    "list1.remove(15)\n",
    "list1"
   ]
  },
  {
   "cell_type": "code",
   "execution_count": 15,
   "id": "437ea4e4",
   "metadata": {},
   "outputs": [
    {
     "data": {
      "text/plain": [
       "5"
      ]
     },
     "execution_count": 15,
     "metadata": {},
     "output_type": "execute_result"
    }
   ],
   "source": [
    "# index() tells you the first index position of a value\n",
    "list1.index(100)\n"
   ]
  },
  {
   "cell_type": "code",
   "execution_count": 17,
   "id": "65a37015",
   "metadata": {},
   "outputs": [
    {
     "data": {
      "text/plain": [
       "2"
      ]
     },
     "execution_count": 17,
     "metadata": {},
     "output_type": "execute_result"
    }
   ],
   "source": [
    "# count() tells you how many times a value occurs in a list\n",
    "list1.count(100)"
   ]
  },
  {
   "cell_type": "code",
   "execution_count": 18,
   "id": "8d9f04ac",
   "metadata": {},
   "outputs": [
    {
     "data": {
      "text/plain": [
       "[15, 25, 100, 100]"
      ]
     },
     "execution_count": 18,
     "metadata": {},
     "output_type": "execute_result"
    }
   ],
   "source": [
    "# slicing --> isolate a range of values from a list\n",
    "list1[3:7]"
   ]
  },
  {
   "cell_type": "code",
   "execution_count": null,
   "id": "2e6b5977",
   "metadata": {},
   "outputs": [
    {
     "data": {
      "text/plain": [
       "[1000, 15, 100, 200]"
      ]
     },
     "execution_count": 19,
     "metadata": {},
     "output_type": "execute_result"
    }
   ],
   "source": [
    "# slicing with step starting position: ending position : step (2 every other item)\n",
    "list1[1:8:2] # every second element from index 1 to index 8"
   ]
  },
  {
   "cell_type": "code",
   "execution_count": 20,
   "id": "310c817c",
   "metadata": {},
   "outputs": [],
   "source": [
    "# lists support item assignment meaning we can overwrite values\n",
    "list1[0] = 4000"
   ]
  },
  {
   "cell_type": "code",
   "execution_count": 21,
   "id": "589ab98d",
   "metadata": {},
   "outputs": [
    {
     "data": {
      "text/plain": [
       "[4000, 1000, 78, 15, 25, 100, 100, 200, 300]"
      ]
     },
     "execution_count": 21,
     "metadata": {},
     "output_type": "execute_result"
    }
   ],
   "source": [
    "list1"
   ]
  },
  {
   "cell_type": "code",
   "execution_count": 23,
   "id": "de8986dc",
   "metadata": {},
   "outputs": [],
   "source": [
    "# tuple --> defined with round brackets (\n",
    "tuple1 = (8, 7, 6, 15)"
   ]
  },
  {
   "cell_type": "code",
   "execution_count": 24,
   "id": "6790876f",
   "metadata": {},
   "outputs": [
    {
     "data": {
      "text/plain": [
       "1"
      ]
     },
     "execution_count": 24,
     "metadata": {},
     "output_type": "execute_result"
    }
   ],
   "source": [
    "# count the number of elements of a certain value\n",
    "tuple1.count(8)"
   ]
  },
  {
   "cell_type": "code",
   "execution_count": 25,
   "id": "d2ca00fd",
   "metadata": {},
   "outputs": [
    {
     "data": {
      "text/plain": [
       "3"
      ]
     },
     "execution_count": 25,
     "metadata": {},
     "output_type": "execute_result"
    }
   ],
   "source": [
    "# find the first position of a certain value\n",
    "tuple1.index(15)"
   ]
  },
  {
   "cell_type": "code",
   "execution_count": 26,
   "id": "36e2d53b",
   "metadata": {},
   "outputs": [
    {
     "data": {
      "text/plain": [
       "8"
      ]
     },
     "execution_count": 26,
     "metadata": {},
     "output_type": "execute_result"
    }
   ],
   "source": [
    "# find a value in a certain position\n",
    "tuple1[0]"
   ]
  },
  {
   "cell_type": "code",
   "execution_count": 27,
   "id": "aa6f2427",
   "metadata": {},
   "outputs": [
    {
     "ename": "TypeError",
     "evalue": "'tuple' object does not support item assignment",
     "output_type": "error",
     "traceback": [
      "\u001b[31m---------------------------------------------------------------------------\u001b[39m",
      "\u001b[31mTypeError\u001b[39m                                 Traceback (most recent call last)",
      "\u001b[36mCell\u001b[39m\u001b[36m \u001b[39m\u001b[32mIn[27]\u001b[39m\u001b[32m, line 2\u001b[39m\n\u001b[32m      1\u001b[39m \u001b[38;5;66;03m# you cannot overwrite or change values in a tuple\u001b[39;00m\n\u001b[32m----> \u001b[39m\u001b[32m2\u001b[39m \u001b[43mtuple1\u001b[49m\u001b[43m[\u001b[49m\u001b[32;43m0\u001b[39;49m\u001b[43m]\u001b[49m = \u001b[32m1000\u001b[39m \u001b[38;5;66;03m# this will give an error\u001b[39;00m\n",
      "\u001b[31mTypeError\u001b[39m: 'tuple' object does not support item assignment"
     ]
    }
   ],
   "source": [
    "# you cannot overwrite or change values in a tuple\n",
    "tuple1[0] = 1000 # this will give an error"
   ]
  },
  {
   "cell_type": "code",
   "execution_count": 28,
   "id": "0b9872cc",
   "metadata": {},
   "outputs": [],
   "source": [
    "# sets --> defined with curly brackets {}\n",
    "set1 = {12, 13, 15, 18, 25, 15, 100, 100}"
   ]
  },
  {
   "cell_type": "code",
   "execution_count": 29,
   "id": "a2a7e6f8",
   "metadata": {},
   "outputs": [
    {
     "data": {
      "text/plain": [
       "{12, 13, 15, 18, 25, 100}"
      ]
     },
     "execution_count": 29,
     "metadata": {},
     "output_type": "execute_result"
    }
   ],
   "source": [
    "# sets do not hold duplicates, so even if you define one with dupes it will remove them\n",
    "set1"
   ]
  },
  {
   "cell_type": "code",
   "execution_count": 30,
   "id": "ee89eef5",
   "metadata": {},
   "outputs": [],
   "source": [
    "# create set2\n",
    "set2 = {13, 100, 18, 14, 27, 35}"
   ]
  },
  {
   "cell_type": "code",
   "execution_count": 31,
   "id": "7d0efcdd",
   "metadata": {},
   "outputs": [
    {
     "data": {
      "text/plain": [
       "{13, 18, 100}"
      ]
     },
     "execution_count": 31,
     "metadata": {},
     "output_type": "execute_result"
    }
   ],
   "source": [
    "# find common elements between two sets\n",
    "set1.intersection(set2)"
   ]
  },
  {
   "cell_type": "code",
   "execution_count": 32,
   "id": "6b80984d",
   "metadata": {},
   "outputs": [
    {
     "data": {
      "text/plain": [
       "{12, 15, 25}"
      ]
     },
     "execution_count": 32,
     "metadata": {},
     "output_type": "execute_result"
    }
   ],
   "source": [
    "# find elements that exist in set 1 but NOT in set 2\n",
    "set1.difference(set2)"
   ]
  },
  {
   "cell_type": "code",
   "execution_count": 33,
   "id": "041306a1",
   "metadata": {},
   "outputs": [
    {
     "data": {
      "text/plain": [
       "{14, 27, 35}"
      ]
     },
     "execution_count": 33,
     "metadata": {},
     "output_type": "execute_result"
    }
   ],
   "source": [
    "# find elements in set 2 but NOT in set 1\n",
    "set2.difference(set1)"
   ]
  },
  {
   "cell_type": "code",
   "execution_count": 34,
   "id": "0af9ef1a",
   "metadata": {},
   "outputs": [],
   "source": [
    "# if i only want to keep the elements in set2 that are different from set1\n",
    "set2.difference_update(set1)"
   ]
  },
  {
   "cell_type": "code",
   "execution_count": 35,
   "id": "5a9b77f7",
   "metadata": {},
   "outputs": [
    {
     "data": {
      "text/plain": [
       "{14, 27, 35}"
      ]
     },
     "execution_count": 35,
     "metadata": {},
     "output_type": "execute_result"
    }
   ],
   "source": [
    "set2"
   ]
  },
  {
   "cell_type": "code",
   "execution_count": 36,
   "id": "ec92b24d",
   "metadata": {},
   "outputs": [],
   "source": [
    "# pthon built in functions set \n",
    "# https://docs.python.org/3/library/functions.html\n"
   ]
  },
  {
   "cell_type": "code",
   "execution_count": 37,
   "id": "b043f692",
   "metadata": {},
   "outputs": [
    {
     "data": {
      "text/plain": [
       "{15, 25, 100}"
      ]
     },
     "execution_count": 37,
     "metadata": {},
     "output_type": "execute_result"
    }
   ],
   "source": [
    "# find common elements between set1 and list1\n",
    "set1.intersection(list1)"
   ]
  },
  {
   "cell_type": "code",
   "execution_count": 39,
   "id": "c51d95a4",
   "metadata": {},
   "outputs": [
    {
     "data": {
      "text/plain": [
       "5818"
      ]
     },
     "execution_count": 39,
     "metadata": {},
     "output_type": "execute_result"
    }
   ],
   "source": [
    "# global fiunction like sum() \n",
    "sum(list1)"
   ]
  },
  {
   "cell_type": "code",
   "execution_count": 40,
   "id": "f23cad09",
   "metadata": {},
   "outputs": [
    {
     "data": {
      "text/plain": [
       "183"
      ]
     },
     "execution_count": 40,
     "metadata": {},
     "output_type": "execute_result"
    }
   ],
   "source": [
    "sum(set1)"
   ]
  },
  {
   "cell_type": "code",
   "execution_count": 41,
   "id": "f3c38a38",
   "metadata": {},
   "outputs": [
    {
     "data": {
      "text/plain": [
       "36"
      ]
     },
     "execution_count": 41,
     "metadata": {},
     "output_type": "execute_result"
    }
   ],
   "source": [
    "sum(tuple1)"
   ]
  },
  {
   "cell_type": "code",
   "execution_count": 42,
   "id": "b17024c6",
   "metadata": {},
   "outputs": [
    {
     "data": {
      "text/plain": [
       "15"
      ]
     },
     "execution_count": 42,
     "metadata": {},
     "output_type": "execute_result"
    }
   ],
   "source": [
    "min(list1)"
   ]
  },
  {
   "cell_type": "code",
   "execution_count": 43,
   "id": "285f96d6",
   "metadata": {},
   "outputs": [
    {
     "data": {
      "text/plain": [
       "35"
      ]
     },
     "execution_count": 43,
     "metadata": {},
     "output_type": "execute_result"
    }
   ],
   "source": [
    "max(set2)"
   ]
  },
  {
   "cell_type": "code",
   "execution_count": 44,
   "id": "e4a9370d",
   "metadata": {},
   "outputs": [],
   "source": [
    "# dictionaries\n",
    "dict1 = {'ON': 'Toronto', 'MB': 'Winnipeg', 'SK': 'Regina', 'BC': 'Victoria'}"
   ]
  },
  {
   "cell_type": "code",
   "execution_count": 45,
   "id": "78275545",
   "metadata": {},
   "outputs": [
    {
     "data": {
      "text/plain": [
       "dict_keys(['ON', 'MB', 'SK', 'BC'])"
      ]
     },
     "execution_count": 45,
     "metadata": {},
     "output_type": "execute_result"
    }
   ],
   "source": [
    "# functions work on dictionaries\n",
    "# all the keys of the dictionary\n",
    "dict1.keys()"
   ]
  },
  {
   "cell_type": "code",
   "execution_count": 46,
   "id": "9c52afa3",
   "metadata": {},
   "outputs": [
    {
     "data": {
      "text/plain": [
       "dict_values(['Toronto', 'Winnipeg', 'Regina', 'Victoria'])"
      ]
     },
     "execution_count": 46,
     "metadata": {},
     "output_type": "execute_result"
    }
   ],
   "source": [
    "# isolate the values of the dictionary\n",
    "dict1.values()"
   ]
  },
  {
   "cell_type": "code",
   "execution_count": 51,
   "id": "b370bcc0",
   "metadata": {},
   "outputs": [],
   "source": [
    "# hierarchical data example - shopping cart\n",
    "dict2 = {'customer1': {'books': ['book1', 'book2'], 'food': ['chips', 'tomatos']}, 'customer2': {'clothing': [ 'socks', 'skirt'], 'electronic': [ 'tv', 'computer', 'ipad']}}"
   ]
  },
  {
   "cell_type": "code",
   "execution_count": 52,
   "id": "d1ae6442",
   "metadata": {},
   "outputs": [
    {
     "data": {
      "text/plain": [
       "dict_keys(['customer1', 'customer2'])"
      ]
     },
     "execution_count": 52,
     "metadata": {},
     "output_type": "execute_result"
    }
   ],
   "source": [
    "# show the keys of the main dictionary\n",
    "dict2.keys()"
   ]
  },
  {
   "cell_type": "code",
   "execution_count": 53,
   "id": "4ce79242",
   "metadata": {},
   "outputs": [
    {
     "data": {
      "text/plain": [
       "dict_values([{'books': ['book1', 'book2'], 'food': ['chips', 'tomatos']}, {'clothing': ['socks', 'skirt'], 'electronic': ['tv', 'computer', 'ipad']}])"
      ]
     },
     "execution_count": 53,
     "metadata": {},
     "output_type": "execute_result"
    }
   ],
   "source": [
    "# show the values of the main dictionary\n",
    "dict2.values()"
   ]
  },
  {
   "cell_type": "code",
   "execution_count": 55,
   "id": "14cec96f",
   "metadata": {},
   "outputs": [
    {
     "data": {
      "text/plain": [
       "dict_keys(['books', 'food'])"
      ]
     },
     "execution_count": 55,
     "metadata": {},
     "output_type": "execute_result"
    }
   ],
   "source": [
    "# show the keys of customer1\n",
    "dict2['customer1'].keys()"
   ]
  },
  {
   "cell_type": "code",
   "execution_count": 56,
   "id": "c2856cfe",
   "metadata": {},
   "outputs": [
    {
     "data": {
      "text/plain": [
       "dict_values([['book1', 'book2'], ['chips', 'tomatos']])"
      ]
     },
     "execution_count": 56,
     "metadata": {},
     "output_type": "execute_result"
    }
   ],
   "source": [
    "# show the values of customer1\n",
    "dict2['customer1'].values()"
   ]
  },
  {
   "cell_type": "code",
   "execution_count": 57,
   "id": "78bdbe8b",
   "metadata": {},
   "outputs": [],
   "source": [
    "# adding a new key:value to a dictionary - just add one that doesn't exist\n",
    "dict2['customer3'] = {'groceries':['chips','pop'], 'shoes':['running shoes', 'tennis shoes']}"
   ]
  },
  {
   "cell_type": "code",
   "execution_count": 58,
   "id": "d9f0ee98",
   "metadata": {},
   "outputs": [
    {
     "data": {
      "text/plain": [
       "{'customer1': {'books': ['book1', 'book2'], 'food': ['chips', 'tomatos']},\n",
       " 'customer2': {'clothing': ['socks', 'skirt'],\n",
       "  'electronic': ['tv', 'computer', 'ipad']},\n",
       " 'customer3': {'groceries': ['chips', 'pop'],\n",
       "  'shoes': ['running shoes', 'tennis shoes']}}"
      ]
     },
     "execution_count": 58,
     "metadata": {},
     "output_type": "execute_result"
    }
   ],
   "source": [
    "dict2"
   ]
  },
  {
   "cell_type": "code",
   "execution_count": 59,
   "id": "e2c0e485",
   "metadata": {},
   "outputs": [
    {
     "data": {
      "text/plain": [
       "{'groceries': ['chips', 'pop'], 'shoes': ['running shoes', 'tennis shoes']}"
      ]
     },
     "execution_count": 59,
     "metadata": {},
     "output_type": "execute_result"
    }
   ],
   "source": [
    "# removing an element, we can use pop()\n",
    "dict2.pop('customer3')"
   ]
  },
  {
   "cell_type": "code",
   "execution_count": 60,
   "id": "99f6a1b7",
   "metadata": {},
   "outputs": [
    {
     "data": {
      "text/plain": [
       "{'customer1': {'books': ['book1', 'book2'], 'food': ['chips', 'tomatos']},\n",
       " 'customer2': {'clothing': ['socks', 'skirt'],\n",
       "  'electronic': ['tv', 'computer', 'ipad']}}"
      ]
     },
     "execution_count": 60,
     "metadata": {},
     "output_type": "execute_result"
    }
   ],
   "source": [
    "dict2"
   ]
  },
  {
   "cell_type": "code",
   "execution_count": null,
   "id": "18575d97",
   "metadata": {},
   "outputs": [
    {
     "data": {
      "text/plain": [
       "dict_items([('customer1', {'books': ['book1', 'book2'], 'food': ['chips', 'tomatos']}), ('customer2', {'clothing': ['socks', 'skirt'], 'electronic': ['tv', 'computer', 'ipad']})])"
      ]
     },
     "execution_count": 61,
     "metadata": {},
     "output_type": "execute_result"
    }
   ],
   "source": [
    "# show the items of the main dictionary\n",
    "dict2.items()"
   ]
  },
  {
   "cell_type": "code",
   "execution_count": 64,
   "id": "782cac83",
   "metadata": {},
   "outputs": [],
   "source": [
    "# conditionals statements\n",
    "x = 9*12/14+100"
   ]
  },
  {
   "cell_type": "code",
   "execution_count": 65,
   "id": "3ab4973c",
   "metadata": {},
   "outputs": [
    {
     "name": "stdout",
     "output_type": "stream",
     "text": [
      "107.71428571428571 is greater than 10\n"
     ]
    }
   ],
   "source": [
    "if x > 10: \n",
    "    print(f'{x} is greater than 10')\n",
    "else: \n",
    "    print(f'{x} is not greater than 10')"
   ]
  },
  {
   "cell_type": "code",
   "execution_count": 66,
   "id": "567f4dfc",
   "metadata": {},
   "outputs": [],
   "source": [
    "y = 9*12/14+100"
   ]
  },
  {
   "cell_type": "code",
   "execution_count": 68,
   "id": "db23d60e",
   "metadata": {},
   "outputs": [
    {
     "name": "stdout",
     "output_type": "stream",
     "text": [
      "0\n"
     ]
    }
   ],
   "source": [
    "if y > 10: \n",
    "    y = (y+15) / 22\n",
    "else: \n",
    "    y = 0\n",
    "\n",
    "print(y)"
   ]
  },
  {
   "cell_type": "code",
   "execution_count": null,
   "id": "3c19e763",
   "metadata": {},
   "outputs": [
    {
     "name": "stdout",
     "output_type": "stream",
     "text": [
      "0\n"
     ]
    }
   ],
   "source": [
    "if y > 10: \n",
    "    y = (y+15) / 22\n",
    "    y = y/12\n",
    "    print(f'{y} is calculated')\n",
    "\n",
    "else: \n",
    "    y = 0\n",
    "\n",
    "print(y)"
   ]
  },
  {
   "cell_type": "code",
   "execution_count": 72,
   "id": "b3d28e03",
   "metadata": {},
   "outputs": [],
   "source": [
    "# conditional statements\n",
    "x = 9*12/14+10"
   ]
  },
  {
   "cell_type": "code",
   "execution_count": 73,
   "id": "515ead5c",
   "metadata": {},
   "outputs": [
    {
     "name": "stdout",
     "output_type": "stream",
     "text": [
      "0.12391774891774893 is calculated\n"
     ]
    }
   ],
   "source": [
    "# make sure conditions are mutually exclusive\n",
    "if x > 10:\n",
    "  x = (x + 15) / 22\n",
    "  x = x/12\n",
    "  print(f'{x} is calculated')\n",
    "elif x > 5 and x <= 10:\n",
    "  x = (x +10) / 12\n",
    "  print(x)\n",
    "\n",
    "else:\n",
    "  x = 0"
   ]
  },
  {
   "cell_type": "code",
   "execution_count": 75,
   "id": "31a15bd7",
   "metadata": {},
   "outputs": [
    {
     "name": "stdout",
     "output_type": "stream",
     "text": [
      "15.208333333333334 is calculated\n",
      "3.8446969696969693 is calculated\n",
      "0.3522727272727273 is calculated\n",
      "0.11363636363636363 is calculated\n",
      "0.15151515151515152 is calculated\n",
      "0.4356060606060606 is calculated\n",
      "0.4356060606060606 is calculated\n",
      "0.8143939393939394 is calculated\n",
      "1.1931818181818181 is calculated\n"
     ]
    }
   ],
   "source": [
    "# looping -- the for loop \n",
    "\n",
    "for i in list1:\n",
    "    if i > 10:\n",
    "        i = (i + 15) / 22\n",
    "        i = i / 12\n",
    "        print(f'{i} is calculated')\n",
    "    elif i > 5 and i <= 10:\n",
    "        i = (i + 10) / 12\n",
    "        print(i)\n",
    "    else:\n",
    "        i = 0"
   ]
  },
  {
   "cell_type": "code",
   "execution_count": null,
   "id": "0876a17b",
   "metadata": {},
   "outputs": [
    {
     "name": "stdout",
     "output_type": "stream",
     "text": [
      "('customer1', {'books': ['book1', 'book2'], 'food': ['chips', 'tomatos']})\n",
      "('customer2', {'clothing': ['socks', 'skirt'], 'electronic': ['tv', 'computer', 'ipad']})\n"
     ]
    }
   ],
   "source": [
    "# it will print the items of the dictionary as a tuple (key, value)\n",
    "for i in dict2.items():\n",
    "    print(i)"
   ]
  },
  {
   "cell_type": "code",
   "execution_count": 77,
   "id": "4852f89c",
   "metadata": {},
   "outputs": [
    {
     "name": "stdout",
     "output_type": "stream",
     "text": [
      "['books', 'food', 'clothing', 'electronic']\n",
      "['book1', 'book2', 'chips', 'tomatos', 'socks', 'skirt', 'tv', 'computer', 'ipad']\n",
      "4\n",
      "9\n",
      "{'books': 2, 'food': 2, 'clothing': 2, 'electronic': 3}\n"
     ]
    }
   ],
   "source": [
    "# calculate how many items from each major category were ordered\n",
    "categories_w_purchases = []\n",
    "items_purchased = []\n",
    "num_categories = 0\n",
    "num_items = 0\n",
    "num_items_by_category = {}\n",
    "\n",
    "for key, value in dict2.items():\n",
    "  for a, b in value.items():\n",
    "    if a not in categories_w_purchases:\n",
    "      categories_w_purchases.append(a)\n",
    "      num_categories += 1\n",
    "    for item in b:\n",
    "      if item not in items_purchased:\n",
    "        items_purchased.append(item)\n",
    "        num_items += 1\n",
    "      if a not in num_items_by_category.keys():\n",
    "        num_items_by_category[a] = 1\n",
    "      else:\n",
    "        num_items_by_category[a] += 1\n",
    "\n",
    "print(categories_w_purchases)\n",
    "print(items_purchased)\n",
    "print(num_categories)\n",
    "print(num_items)\n",
    "print(num_items_by_category)"
   ]
  },
  {
   "cell_type": "code",
   "execution_count": 78,
   "id": "33e331f5",
   "metadata": {},
   "outputs": [],
   "source": [
    "# import numpy \n",
    "import numpy as np"
   ]
  },
  {
   "cell_type": "code",
   "execution_count": 91,
   "id": "6c6258ba",
   "metadata": {},
   "outputs": [],
   "source": [
    "arr1 = np.array(list1)"
   ]
  },
  {
   "cell_type": "code",
   "execution_count": 92,
   "id": "a9693e82",
   "metadata": {},
   "outputs": [
    {
     "data": {
      "text/plain": [
       "array([4000, 1000,   78,   15,   25,  100,  100,  200,  300])"
      ]
     },
     "execution_count": 92,
     "metadata": {},
     "output_type": "execute_result"
    }
   ],
   "source": [
    "arr1"
   ]
  },
  {
   "cell_type": "code",
   "execution_count": 93,
   "id": "c7a13916",
   "metadata": {},
   "outputs": [
    {
     "data": {
      "text/plain": [
       "np.float64(646.4444444444445)"
      ]
     },
     "execution_count": 93,
     "metadata": {},
     "output_type": "execute_result"
    }
   ],
   "source": [
    "arr1.mean()"
   ]
  },
  {
   "cell_type": "code",
   "execution_count": 94,
   "id": "80aebf14",
   "metadata": {},
   "outputs": [
    {
     "data": {
      "text/plain": [
       "np.int64(5818)"
      ]
     },
     "execution_count": 94,
     "metadata": {},
     "output_type": "execute_result"
    }
   ],
   "source": [
    "arr1.sum()"
   ]
  },
  {
   "cell_type": "code",
   "execution_count": 95,
   "id": "120fddf8",
   "metadata": {},
   "outputs": [
    {
     "data": {
      "text/plain": [
       "array([4000., 1000.,   78.,   15.,   25.,  100.,  100.,  200.,  300.])"
      ]
     },
     "execution_count": 95,
     "metadata": {},
     "output_type": "execute_result"
    }
   ],
   "source": [
    "arr1.astype(float)"
   ]
  },
  {
   "cell_type": "code",
   "execution_count": 96,
   "id": "9695e1da",
   "metadata": {},
   "outputs": [
    {
     "data": {
      "text/plain": [
       "np.int64(4000)"
      ]
     },
     "execution_count": 96,
     "metadata": {},
     "output_type": "execute_result"
    }
   ],
   "source": [
    "arr1[0]"
   ]
  },
  {
   "cell_type": "code",
   "execution_count": 97,
   "id": "a5cc75f7",
   "metadata": {},
   "outputs": [
    {
     "data": {
      "text/plain": [
       "(9,)"
      ]
     },
     "execution_count": 97,
     "metadata": {},
     "output_type": "execute_result"
    }
   ],
   "source": [
    "arr1.shape"
   ]
  },
  {
   "cell_type": "code",
   "execution_count": 98,
   "id": "2c90ebd9",
   "metadata": {},
   "outputs": [],
   "source": [
    "arr1 = np.append(arr1, 500)"
   ]
  },
  {
   "cell_type": "code",
   "execution_count": 99,
   "id": "007f41ec",
   "metadata": {},
   "outputs": [
    {
     "data": {
      "text/plain": [
       "(10,)"
      ]
     },
     "execution_count": 99,
     "metadata": {},
     "output_type": "execute_result"
    }
   ],
   "source": [
    "arr1.shape"
   ]
  },
  {
   "cell_type": "code",
   "execution_count": 100,
   "id": "4a0ea4a2",
   "metadata": {},
   "outputs": [
    {
     "data": {
      "text/plain": [
       "array([[4000, 1000],\n",
       "       [  78,   15],\n",
       "       [  25,  100],\n",
       "       [ 100,  200],\n",
       "       [ 300,  500]])"
      ]
     },
     "execution_count": 100,
     "metadata": {},
     "output_type": "execute_result"
    }
   ],
   "source": [
    "arr1.reshape(5,2)"
   ]
  },
  {
   "cell_type": "code",
   "execution_count": 101,
   "id": "bb684957",
   "metadata": {},
   "outputs": [
    {
     "data": {
      "text/plain": [
       "array([[4000, 1000,   78,   15,   25],\n",
       "       [ 100,  100,  200,  300,  500]])"
      ]
     },
     "execution_count": 101,
     "metadata": {},
     "output_type": "execute_result"
    }
   ],
   "source": [
    "arr1.reshape(2,5)"
   ]
  },
  {
   "cell_type": "code",
   "execution_count": 102,
   "id": "28f9e573",
   "metadata": {},
   "outputs": [],
   "source": [
    "# projection of arreys\n",
    "arr2 = np.array([10])"
   ]
  },
  {
   "cell_type": "code",
   "execution_count": 103,
   "id": "45b88d78",
   "metadata": {},
   "outputs": [
    {
     "data": {
      "text/plain": [
       "array([4010, 1010,   88,   25,   35,  110,  110,  210,  310,  510])"
      ]
     },
     "execution_count": 103,
     "metadata": {},
     "output_type": "execute_result"
    }
   ],
   "source": [
    "arr1 + arr2"
   ]
  },
  {
   "cell_type": "code",
   "execution_count": 104,
   "id": "ef6c64b1",
   "metadata": {},
   "outputs": [
    {
     "data": {
      "text/plain": [
       "array([40000, 10000,   780,   150,   250,  1000,  1000,  2000,  3000,\n",
       "        5000])"
      ]
     },
     "execution_count": 104,
     "metadata": {},
     "output_type": "execute_result"
    }
   ],
   "source": [
    "arr1 * arr2"
   ]
  }
 ],
 "metadata": {
  "kernelspec": {
   "display_name": "Python 3",
   "language": "python",
   "name": "python3"
  },
  "language_info": {
   "codemirror_mode": {
    "name": "ipython",
    "version": 3
   },
   "file_extension": ".py",
   "mimetype": "text/x-python",
   "name": "python",
   "nbconvert_exporter": "python",
   "pygments_lexer": "ipython3",
   "version": "3.13.5"
  }
 },
 "nbformat": 4,
 "nbformat_minor": 5
}
